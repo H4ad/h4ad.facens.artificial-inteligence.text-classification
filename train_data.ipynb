{
 "cells": [
  {
   "cell_type": "markdown",
   "metadata": {},
   "source": [
    "# Avaliação Continuada 2 (AC2) - Dados de Treinamento\n",
    "\n",
    "Abaixo, iremos criar um modelo para classificar mensagens de spam a partir de um dataset obtido no Kaggle."
   ]
  },
  {
   "cell_type": "markdown",
   "metadata": {},
   "source": [
    "## Imports\n",
    "\n",
    "Primeiro, começamos a importar todas as bibliotecas que iremos precisar nesse notebook, apenas para simplificar mais tarde."
   ]
  },
  {
   "cell_type": "code",
   "execution_count": 3,
   "metadata": {},
   "outputs": [],
   "source": [
    "# Leitura dos módulos\n",
    "from __future__ import print_function\n",
    "\n",
    "# biblioteca usada para trabalhar com dataframes\n",
    "import pandas as pd\n",
    "from pandas import Series,DataFrame\n",
    "\n",
    "# uma biblioteca usada para auxiliar a limpeza de tags html\n",
    "import html\n",
    "\n",
    "# bibliotecas básicas como numpy e matplotlib para exibir \n",
    "# alguns gráficos caso seja necessário. \n",
    "import numpy as np\n",
    "import matplotlib.pyplot as plt\n",
    "\n",
    "# biblioteca para usar para medir acuracia e separar os dados de treino e teste\n",
    "from sklearn import svm\n",
    "from sklearn.model_selection import train_test_split\n",
    "from sklearn.metrics import accuracy_score\n",
    "\n",
    "# biblioteca usada para criar modelos de word embedding\n",
    "import gensim\n",
    "from gensim.test.utils import common_texts\n",
    "from gensim.models import Word2Vec\n",
    "\n",
    "np.random.seed(1000)\n",
    "\n",
    "import re # biblioteca para expressoes regulares\n",
    "\n",
    "import nltk # biblioteca para Processamento de Linguagem Natural\n",
    "from nltk.stem.porter import PorterStemmer # para fazer a estemização em documentos da lingua inglesa\n",
    "from nltk.stem import RSLPStemmer # para fazer a estemização em documentos da lingua portuguesa"
   ]
  },
  {
   "cell_type": "markdown",
   "metadata": {},
   "source": [
    "Abaixo, um import que deve ser executado apenas um vez, caso não tenha executado, descomente a linha e execute novamente."
   ]
  },
  {
   "cell_type": "code",
   "execution_count": 4,
   "metadata": {},
   "outputs": [],
   "source": [
    "# nltk.download('all') # instala todos os recursos da biblioteca NLTK. Você pode descomentar esta linha na 1a vez que for executar este notebook"
   ]
  },
  {
   "cell_type": "markdown",
   "metadata": {},
   "source": [
    "## Dataset\n",
    "\n",
    "Depois, inicializamos o nosso dataset que foi baixado do Kaggle e pode ser obtido a partir [desse link](https://www.kaggle.com/team-ai/spam-text-message-classification)."
   ]
  },
  {
   "cell_type": "code",
   "execution_count": 5,
   "metadata": {},
   "outputs": [],
   "source": [
    "data_set_url = \"https://raw.githubusercontent.com/H4ad/h4ad.facens.artificial-inteligence.text-classification/master/datasets/spam-text-message-20170820.csv\"\n",
    "data_set = pd.read_csv(data_set_url,sep=\",\",header=0)"
   ]
  },
  {
   "cell_type": "markdown",
   "metadata": {},
   "source": [
    "## Análise Exploratória\n",
    "\n",
    "Abaixo, um pouco dos dados que iremos ver e tratar durante o notebook."
   ]
  },
  {
   "cell_type": "markdown",
   "metadata": {},
   "source": [
    "### O que há dentro?\n",
    "\n",
    "Vamos começar primeiro a visualizar o que há dentro desse dataset com alguns comandos que nos mostram alguns informações básicas."
   ]
  },
  {
   "cell_type": "code",
   "execution_count": 6,
   "metadata": {},
   "outputs": [
    {
     "data": {
      "text/html": [
       "<div>\n",
       "<style scoped>\n",
       "    .dataframe tbody tr th:only-of-type {\n",
       "        vertical-align: middle;\n",
       "    }\n",
       "\n",
       "    .dataframe tbody tr th {\n",
       "        vertical-align: top;\n",
       "    }\n",
       "\n",
       "    .dataframe thead th {\n",
       "        text-align: right;\n",
       "    }\n",
       "</style>\n",
       "<table border=\"1\" class=\"dataframe\">\n",
       "  <thead>\n",
       "    <tr style=\"text-align: right;\">\n",
       "      <th></th>\n",
       "      <th>Category</th>\n",
       "      <th>Message</th>\n",
       "    </tr>\n",
       "  </thead>\n",
       "  <tbody>\n",
       "    <tr>\n",
       "      <th>0</th>\n",
       "      <td>ham</td>\n",
       "      <td>Go until jurong point, crazy.. Available only ...</td>\n",
       "    </tr>\n",
       "    <tr>\n",
       "      <th>1</th>\n",
       "      <td>ham</td>\n",
       "      <td>Ok lar... Joking wif u oni...</td>\n",
       "    </tr>\n",
       "    <tr>\n",
       "      <th>2</th>\n",
       "      <td>spam</td>\n",
       "      <td>Free entry in 2 a wkly comp to win FA Cup fina...</td>\n",
       "    </tr>\n",
       "    <tr>\n",
       "      <th>3</th>\n",
       "      <td>ham</td>\n",
       "      <td>U dun say so early hor... U c already then say...</td>\n",
       "    </tr>\n",
       "    <tr>\n",
       "      <th>4</th>\n",
       "      <td>ham</td>\n",
       "      <td>Nah I don't think he goes to usf, he lives aro...</td>\n",
       "    </tr>\n",
       "  </tbody>\n",
       "</table>\n",
       "</div>"
      ],
      "text/plain": [
       "  Category                                            Message\n",
       "0      ham  Go until jurong point, crazy.. Available only ...\n",
       "1      ham                      Ok lar... Joking wif u oni...\n",
       "2     spam  Free entry in 2 a wkly comp to win FA Cup fina...\n",
       "3      ham  U dun say so early hor... U c already then say...\n",
       "4      ham  Nah I don't think he goes to usf, he lives aro..."
      ]
     },
     "metadata": {},
     "output_type": "display_data"
    },
    {
     "data": {
      "text/html": [
       "<div>\n",
       "<style scoped>\n",
       "    .dataframe tbody tr th:only-of-type {\n",
       "        vertical-align: middle;\n",
       "    }\n",
       "\n",
       "    .dataframe tbody tr th {\n",
       "        vertical-align: top;\n",
       "    }\n",
       "\n",
       "    .dataframe thead th {\n",
       "        text-align: right;\n",
       "    }\n",
       "</style>\n",
       "<table border=\"1\" class=\"dataframe\">\n",
       "  <thead>\n",
       "    <tr style=\"text-align: right;\">\n",
       "      <th></th>\n",
       "      <th>Category</th>\n",
       "      <th>Message</th>\n",
       "    </tr>\n",
       "  </thead>\n",
       "  <tbody>\n",
       "    <tr>\n",
       "      <th>count</th>\n",
       "      <td>5572</td>\n",
       "      <td>5572</td>\n",
       "    </tr>\n",
       "    <tr>\n",
       "      <th>unique</th>\n",
       "      <td>2</td>\n",
       "      <td>5157</td>\n",
       "    </tr>\n",
       "    <tr>\n",
       "      <th>top</th>\n",
       "      <td>ham</td>\n",
       "      <td>Sorry, I'll call later</td>\n",
       "    </tr>\n",
       "    <tr>\n",
       "      <th>freq</th>\n",
       "      <td>4825</td>\n",
       "      <td>30</td>\n",
       "    </tr>\n",
       "  </tbody>\n",
       "</table>\n",
       "</div>"
      ],
      "text/plain": [
       "       Category                 Message\n",
       "count      5572                    5572\n",
       "unique        2                    5157\n",
       "top         ham  Sorry, I'll call later\n",
       "freq       4825                      30"
      ]
     },
     "metadata": {},
     "output_type": "display_data"
    }
   ],
   "source": [
    "display(data_set.head(n=5))\n",
    "display(data_set.describe())"
   ]
  },
  {
   "cell_type": "markdown",
   "metadata": {},
   "source": [
    "### Valores Duplicados\n",
    "\n",
    "Na tabela acima, podemos ver que na coluna \"Message\", temos um total de 5572 valores mas apenas 5157 são únicos.\n",
    "\n",
    "Para não influenciar ou causar algum problema durante os treinos, rodar um outro comando para realmente ter a contagem de quantos dados duplicados nós temos:"
   ]
  },
  {
   "cell_type": "code",
   "execution_count": 7,
   "metadata": {},
   "outputs": [
    {
     "data": {
      "text/plain": [
       "415"
      ]
     },
     "execution_count": 7,
     "metadata": {},
     "output_type": "execute_result"
    }
   ],
   "source": [
    "data_set.duplicated().sum()"
   ]
  },
  {
   "cell_type": "markdown",
   "metadata": {},
   "source": [
    "O número é de 415, é bem expressivo. Dessa forma, vamos agora tratar de apagar esses valores duplicados."
   ]
  },
  {
   "cell_type": "code",
   "execution_count": 8,
   "metadata": {},
   "outputs": [
    {
     "name": "stdout",
     "output_type": "stream",
     "text": [
      "Shape antes de remover os dados.\n",
      "(5572, 2)\n",
      "\n",
      "Shape após remover os dados.\n",
      "(5157, 2)\n",
      "\n",
      "Quantidade de itens removidos: 415\n"
     ]
    }
   ],
   "source": [
    "print('Shape antes de remover os dados.')\n",
    "print(data_set.shape)\n",
    "\n",
    "data_set_cleaned = data_set.drop_duplicates(inplace=False)\n",
    "\n",
    "print('\\nShape após remover os dados.')\n",
    "print(data_set_cleaned.shape)\n",
    "\n",
    "print('\\nQuantidade de itens removidos:', (data_set.shape[0] - data_set_cleaned.shape[0]))"
   ]
  },
  {
   "cell_type": "markdown",
   "metadata": {},
   "source": [
    "### Valores Faltando\n",
    "\n",
    "Após checar valores duplicados, podemos também verificar se não há algum valor faltando, usando o comando abaixo:"
   ]
  },
  {
   "cell_type": "code",
   "execution_count": 9,
   "metadata": {},
   "outputs": [
    {
     "data": {
      "text/plain": [
       "Category    0.0\n",
       "Message     0.0\n",
       "dtype: float64"
      ]
     },
     "execution_count": 9,
     "metadata": {},
     "output_type": "execute_result"
    }
   ],
   "source": [
    "data_set_cleaned.isna().sum() / data_set_cleaned.shape[0]"
   ]
  },
  {
   "cell_type": "markdown",
   "metadata": {},
   "source": [
    "E como podemos ver, tudo zero para ambas as colunas, dessa forma, não precisamos fazer mais nada já que não há valores nulos ou faltando."
   ]
  },
  {
   "cell_type": "markdown",
   "metadata": {},
   "source": [
    "## Pré-Processamento\n",
    "\n",
    "Após essa analise inicial dos dados, vamos começar com a etapa de pré-processamento dos textos obtidos.\n",
    "\n",
    "As técnicas e o código abaixo usado foi obtido e modificado a partir do código original escrito pelo professor Renato Moraes Silva que pode ser encontrado [nesse notebook.](https://facens.instructure.com/courses/7531/files/1356091?module_item_id=269232)\n",
    "\n",
    "\n",
    "Sobre as técnicas, serão usadas as seguintes:\n",
    "\n",
    " - deixar todas as palavras com letras minúsculas\n",
    " - substituir os números pela tag *\\<NUMBER\\>*\n",
    " - substituir todas as URLS pela tag *\\<URL\\>*\n",
    " - substituir todos os emails pela tag *\\<EMAIL\\>*\n",
    " - substituir o símbolo de moeda pela tag *\\<MONEY\\>*\n",
    " - substituir todos os caracteres não-alfanuméricos por um espaço em branco\n",
    "\n",
    "E o que foi adicionado além das técnicas acima foram:\n",
    " - remover as entidades do html (`&gt;` `&#62;`).\n",
    "\n",
    "Além disso, será aplicado também um processo de *estemização*, no qual diminui uma palavra para o seu radical, tornando uma palavra como \"flies\" para \"fli\". \n",
    "\n",
    "E também, será aplicado um processo de remoção das *stopwords*, no qual remove palavras muito comuns de uma lingua. Como estamos usando um dataset em inglês, palavras como \"i\", \"me\", \"my\", \"myself\", \"we\" e muitas outras.\n",
    "\n",
    "> Uma lista de exemplos mais detalhadas pode ser encontrado [nesse gist](https://gist.github.com/sebleier/554280)."
   ]
  },
  {
   "cell_type": "code",
   "execution_count": 10,
   "metadata": {},
   "outputs": [],
   "source": [
    "def preprocessing(text, stemming = False, stopwords = False):\n",
    "    \"\"\"\n",
    "    Funcao usada para fazer o tratamento de textos da lingua inglesa\n",
    "    \n",
    "    Parametros: \n",
    "        text: variavel do tipo string que contem o texto que devera ser tratado\n",
    "        \n",
    "        stemming: variavel do tipo booleana que indica se a estemizacao deve ser aplicada ou nao\n",
    "        \n",
    "        stopwords: variavel do tipo booleana que indica se as stopwords devem ser removidas ou nao\n",
    "    \"\"\"\n",
    "    \n",
    "    # Lower case\n",
    "    text = text.lower()\n",
    "    \n",
    "    # remove tags HTML\n",
    "    regex = re.compile('<[^<>]+>')\n",
    "    text = re.sub(regex, \" \", text) \n",
    "    \n",
    "    # remove as entidades do HTML\n",
    "    regex = re.compile('(&.+;)')\n",
    "    text = re.sub(regex, \" \", text) \n",
    "    \n",
    "    # normaliza as URLs\n",
    "    regex = re.compile('(http|https)://[^\\s]*')\n",
    "    text = re.sub(regex, \"<URL>\", text)\n",
    "\n",
    "    # normaliza emails\n",
    "    regex = re.compile('[^\\s]+@[^\\s]+')\n",
    "    text = re.sub(regex, \"<EMAIL>\", text)\n",
    "    \n",
    "    #normaliza o símbolo de dólar\n",
    "    regex = re.compile('[$]+')\n",
    "    text = re.sub(regex, \"<MONEY>\", text)\n",
    "    \n",
    "    # converte todos os caracteres não-alfanuméricos em espaço\n",
    "    regex = re.compile('[^A-Za-z0-9]+')  \n",
    "    text = re.sub(regex, \" \", text)\n",
    "    \n",
    "    # normaliza os numeros \n",
    "    regex = re.compile('[0-9]+')\n",
    "    text = re.sub(regex, \"<NUMBER>\", text)\n",
    "    \n",
    "    # substitui varios espaçamentos seguidos em um só\n",
    "    text = ' '.join(text.split())\n",
    "\n",
    "    # remove stopwords\n",
    "    if stopwords:\n",
    "        words = text.split() # separa o texto em palavras\n",
    "        words = [w for w in words if not w in nltk.corpus.stopwords.words('english')]\n",
    "        text = \" \".join( words )\n",
    "    \n",
    "    # aplica estemização\n",
    "    if stemming: \n",
    "        stemmer_method = PorterStemmer()  \n",
    "        words = text.split() # separa o texto em palavras\n",
    "        words = [ stemmer_method.stem(w) for w in words ]\n",
    "        text = \" \".join( words )\n",
    "    \n",
    "    # remove palavras de apenas um caracter\n",
    "    words = text.split() # separa o texto em palavras\n",
    "    words = [ w for w in words if len(w)>1 ]\n",
    "    text = \" \".join( words )\n",
    "    \n",
    "    return text"
   ]
  },
  {
   "cell_type": "markdown",
   "metadata": {},
   "source": [
    "Com a função acima, podemos agora chamar ela para realizar todo o pré-processamento do nosso dataset."
   ]
  },
  {
   "cell_type": "code",
   "execution_count": 11,
   "metadata": {},
   "outputs": [
    {
     "name": "stdout",
     "output_type": "stream",
     "text": [
      "Um dos textos antes do processamento:\n"
     ]
    },
    {
     "data": {
      "text/plain": [
       "'I sent you  &lt;#&gt;  bucks'"
      ]
     },
     "metadata": {},
     "output_type": "display_data"
    },
    {
     "name": "stdout",
     "output_type": "stream",
     "text": [
      "O mesmo texto, só que agora processado:\n"
     ]
    },
    {
     "data": {
      "text/plain": [
       "'sent you bucks'"
      ]
     },
     "metadata": {},
     "output_type": "display_data"
    }
   ],
   "source": [
    "print(\"Um dos textos antes do processamento:\")\n",
    "display(data_set_cleaned[\"Message\"][201])\n",
    "\n",
    "data_set_processed = data_set_cleaned.copy()\n",
    "data_set_processed[\"Message\"] = data_set_processed[\"Message\"].apply(preprocessing)\n",
    "\n",
    "print(\"O mesmo texto, só que agora processado:\")\n",
    "display(data_set_processed[\"Message\"][201])"
   ]
  },
  {
   "cell_type": "markdown",
   "metadata": {},
   "source": [
    "## Word Embedding (Transformando texto em número)\n",
    "\n",
    "Após realizar o pré-processamento, temos todos os nossos textos e palavras bem organizadas e formatadas. Dessa forma, o que devemos fazer é transformar essas palavras em um formato que o nosso modelo de decisão em arvore irá conseguir entender, e é ai que entra o Word Embedding.\n",
    "\n",
    "Word Embedding é uma técnica para transformar um texto em um vetor de atributos com valores numericos. Há alguns pré-treinados, como o da Google, mas iremos criar um próprio porque os pré-treinados são gigantescos (na ordem de Gigas) e serão muito potentes para um simples experimento.\n",
    "\n",
    "Assim, iremos começar agora a criar uma lista de lista com as palavras de cada mensagem no dataset."
   ]
  },
  {
   "cell_type": "code",
   "execution_count": 12,
   "metadata": {},
   "outputs": [
    {
     "name": "stdout",
     "output_type": "stream",
     "text": [
      "Algumas palavras que iremos usar para montar o nosso vocabulário:\n",
      "['go', 'until', 'jurong', 'point', 'crazy', 'available', 'only', 'in', 'bugis', 'great', 'world', 'la', 'buffet', 'cine', 'there', 'got', 'amore', 'wat']\n"
     ]
    }
   ],
   "source": [
    "sentences = data_set_processed[\"Message\"].apply(lambda message: message.split()).tolist()\n",
    "\n",
    "print(\"Algumas palavras que iremos usar para montar o nosso vocabulário:\")\n",
    "print(sentences[0])"
   ]
  },
  {
   "cell_type": "markdown",
   "metadata": {},
   "source": [
    "E com essa lista de palavras, iremos agora treinar o modelo de Word Embedding utilizando a biblioteca [Genshim](https://radimrehurek.com/gensim/models/word2vec.html)."
   ]
  },
  {
   "cell_type": "code",
   "execution_count": 13,
   "metadata": {},
   "outputs": [],
   "source": [
    "model = Word2Vec(sentences=sentences, vector_size=200, window=3, min_count=2, workers=1,seed=0)"
   ]
  },
  {
   "cell_type": "markdown",
   "metadata": {},
   "source": [
    "Com o modelo treinado, podemos ver qual é o tamanho do vocabulário da seguinte forma:"
   ]
  },
  {
   "cell_type": "code",
   "execution_count": 14,
   "metadata": {},
   "outputs": [
    {
     "name": "stdout",
     "output_type": "stream",
     "text": [
      "Tamanho do Vocabulario:  3632\n"
     ]
    }
   ],
   "source": [
    "print('Tamanho do Vocabulario: ', + len(model.wv))"
   ]
  },
  {
   "cell_type": "markdown",
   "metadata": {},
   "source": [
    "E se precisarmos obter o valor associado a cada palavra, podemos usar o seguinte código:"
   ]
  },
  {
   "cell_type": "code",
   "execution_count": 15,
   "metadata": {},
   "outputs": [
    {
     "name": "stdout",
     "output_type": "stream",
     "text": [
      "[ 0.17725728 -0.12364591 -0.09128042  0.15352575  0.27465612 -0.34918335\n",
      "  0.19557531  0.6514204  -0.18635306  0.23358381 -0.2508145  -0.3861254\n",
      "  0.12062293  0.1948891  -0.09676713 -0.3436416  -0.08250508 -0.02306298\n",
      "  0.03775226 -0.4997928   0.229319   -0.31791058 -0.17551939 -0.12988602\n",
      "  0.07546745 -0.2335632  -0.05269529 -0.14021079 -0.34256917  0.13526137\n",
      "  0.3936194   0.02491342  0.15715733 -0.07980499 -0.08084317  0.22652645\n",
      "  0.27350834 -0.12216686 -0.06551714 -0.515588   -0.3249059  -0.09503899\n",
      " -0.01017304  0.11946314  0.4964906  -0.14012283 -0.21763206 -0.07942562\n",
      "  0.16416462  0.22088058  0.02557784 -0.14922592 -0.22336413 -0.28794804\n",
      "  0.07905076 -0.09045391 -0.00816449 -0.3156529  -0.3078355   0.12862799\n",
      "  0.00405741  0.05194883  0.00328006 -0.07926335 -0.62332547  0.15191382\n",
      "  0.00480628  0.68477184 -0.3179665   0.4928944  -0.0347524   0.00089589\n",
      "  0.33645976  0.03821288  0.12150496  0.19722086  0.2751437  -0.2478644\n",
      " -0.49972895 -0.06039534 -0.21529883 -0.07922271 -0.47531575  0.64132994\n",
      " -0.2787564  -0.03149875  0.02273284  0.31867972  0.04425174 -0.2197913\n",
      "  0.2081047   0.35235995  0.22750133  0.42387038  0.61356926  0.34571958\n",
      "  0.16082834 -0.3619082   0.28113002  0.22783142 -0.50350523  0.5089764\n",
      "  0.19330642 -0.191228   -0.33271253 -0.35856363  0.1303812   0.47899684\n",
      " -0.24910092 -0.4054608  -0.0544586  -0.475176   -0.08998661 -0.08876351\n",
      "  0.1457557  -0.07986572  0.2884592  -0.62250483 -0.24585123 -0.27586105\n",
      "  0.0106818   0.32717085  0.22690336 -0.28923595 -0.25960097  0.31768724\n",
      " -0.22888698 -0.15866812 -0.18469197  0.04804545  0.22251298  0.1331912\n",
      " -0.21601447 -0.2286763  -0.17301814  0.45313305 -0.21981516 -0.3863748\n",
      " -0.12358618 -0.4220221   0.26840565 -0.47151145 -0.08934857 -0.08050679\n",
      "  0.03425547 -0.13879876 -0.18406601  0.12906584 -0.01042595  0.03986156\n",
      "  0.14819787 -0.36653107  0.0803874   0.14851603 -0.7018405   0.5133697\n",
      "  0.32460913  0.37966925 -0.0615603   0.16609699  0.23315105  0.20757866\n",
      " -0.08402228 -0.07548901 -0.00619179  0.18223795  0.14294381 -0.26318127\n",
      " -0.22548977  0.10238945 -0.29926333  0.21535851 -0.02168018 -0.2306503\n",
      "  0.1774734   0.2150739  -0.29301706  0.14944163  0.1454975   0.20968275\n",
      " -0.01413332  0.01695354  0.03898687  0.05239232  0.12233437  0.0552837\n",
      " -0.05376365  0.16625705  0.42619833  0.06715066  0.4090595   0.0420114\n",
      " -0.24649823 -0.23034106  0.2163216   0.2959033   0.26406944 -0.43821895\n",
      " -0.03225655 -0.13469313]\n"
     ]
    }
   ],
   "source": [
    "print(model.wv[\"call\"])"
   ]
  },
  {
   "cell_type": "markdown",
   "metadata": {},
   "source": [
    "E é possível até mesmo verificar a similaridade dessa palavra com outras, da seguinte forma:"
   ]
  },
  {
   "cell_type": "code",
   "execution_count": 16,
   "metadata": {},
   "outputs": [
    {
     "name": "stdout",
     "output_type": "stream",
     "text": [
      "[('claim', 0.9994459748268127), ('prize', 0.9993008971214294), ('<NUMBER>p', 0.9988323450088501), ('reply', 0.9988068342208862), ('free', 0.9987947940826416), ('cash', 0.9987867474555969), ('guaranteed', 0.9987627863883972), ('landline', 0.9987287521362305), ('stop', 0.9986884593963623), ('<NUMBER>', 0.9985957145690918)]\n"
     ]
    }
   ],
   "source": [
    "print(model.wv.most_similar(\"call\", topn=10))"
   ]
  },
  {
   "cell_type": "markdown",
   "metadata": {},
   "source": [
    "Dessa forma, agora que foi visto tudo que podemos fazer usando o modelo de Word Embedding, podemos usar ele para transformar todo o nosso dataset para um formato que será possível usar ele para o treinamento.\n",
    "\n",
    "Vamos começar definindo uma função que irá transformar uma sentença inteira um vetor de números.\n",
    "\n",
    "> A função abaixo é uma ligeira adaptação do código do professor Renato, e pode ser encontrado [nesse link.](https://facens.instructure.com/courses/7531/files/1356091?module_item_id=269232) "
   ]
  },
  {
   "cell_type": "code",
   "execution_count": 17,
   "metadata": {},
   "outputs": [
    {
     "name": "stdout",
     "output_type": "stream",
     "text": [
      "Testando com uma frase qualquer\n",
      "[ 0.09666858 -0.07793677 -0.0642707   0.0669587   0.18798147 -0.20435497\n",
      "  0.06802794  0.36140403 -0.11835702  0.10734684 -0.16304761 -0.20007738\n",
      "  0.07085994  0.12438218 -0.04647421 -0.18095407 -0.06126513 -0.00562676\n",
      "  0.01105956 -0.27157634  0.11489736 -0.1504359  -0.07379086 -0.09021427\n",
      "  0.04434391 -0.1252791  -0.03314374 -0.08252606 -0.1887525   0.09725066\n",
      "  0.21774572  0.00726212  0.06642633 -0.02066478 -0.03789778  0.12669984\n",
      "  0.12304571 -0.07355275 -0.03274385 -0.307824   -0.15630648 -0.02252099\n",
      "  0.00066224  0.06722633  0.2936538  -0.04929951 -0.11844446 -0.07437997\n",
      "  0.09269835  0.1100501   0.02483305 -0.09935456 -0.11979835 -0.1545167\n",
      "  0.03718428 -0.03136489 -0.01941977 -0.16338153 -0.16627374  0.05466416\n",
      "  0.00815796  0.02251415 -0.00804271 -0.04178296 -0.33373347  0.0987446\n",
      "  0.0119786   0.36427873 -0.1874299   0.29329967 -0.03065552  0.00333949\n",
      "  0.19527505  0.01228885  0.0685506   0.10282546  0.15520123 -0.16496915\n",
      " -0.3098855  -0.01296497 -0.1320195  -0.04170795 -0.26291484  0.37447083\n",
      " -0.14348859 -0.02916473  0.00094064  0.17865068  0.01958589 -0.13196176\n",
      "  0.1253802   0.19814599  0.13090292  0.25068435  0.3416509   0.1924614\n",
      "  0.10342678 -0.18416235  0.16123591  0.13547659 -0.27182066  0.2969478\n",
      "  0.09635679 -0.10290205 -0.1976326  -0.20470577  0.08970579  0.28496733\n",
      " -0.14173862 -0.22831476 -0.03887498 -0.2623903  -0.0585718  -0.06520309\n",
      "  0.07106709 -0.07090261  0.15136108 -0.37320322 -0.13743764 -0.15341596\n",
      " -0.00726793  0.18386005  0.11316495 -0.13816635 -0.15595245  0.16126859\n",
      " -0.10577698 -0.12008213 -0.09181123 -0.01555358  0.1283909   0.05786721\n",
      " -0.10744847 -0.12096254 -0.0785263   0.23998857 -0.11999341 -0.20884046\n",
      " -0.09791564 -0.24954896  0.14680119 -0.25749466 -0.05264705 -0.06396737\n",
      " -0.00465553 -0.06122749 -0.1185142   0.07916545  0.00342664  0.02252045\n",
      "  0.07361398 -0.20307145  0.03905798  0.08413677 -0.3783728   0.28505892\n",
      "  0.17634706  0.19916593 -0.03902444  0.1005693   0.14505741  0.09817208\n",
      " -0.04390539 -0.03680379 -0.0032404   0.10851747  0.07978417 -0.14804058\n",
      " -0.16259205  0.0301419  -0.16546626  0.11635415 -0.00570631 -0.1385451\n",
      "  0.09009876  0.1336292  -0.16779324  0.09865041  0.06706614  0.13028392\n",
      " -0.01017905  0.01423895 -0.00499074  0.03939116  0.09409429  0.03593462\n",
      " -0.01837626  0.13307989  0.23542425  0.03218503  0.22246668  0.03069256\n",
      " -0.13705926 -0.09460036  0.10999776  0.158187    0.14865896 -0.2502965\n",
      " -0.00445818 -0.08001789]\n"
     ]
    }
   ],
   "source": [
    "def getDocvector(sentence):\n",
    "  sentenceValues = []\n",
    "\n",
    "  for word in sentence:\n",
    "    # É interessante notar o uso do try aqui dentro,\n",
    "    # ele se dá porque, durante a criação do modelo,\n",
    "    # nós especificamos que ele só gere o modelo com\n",
    "    # palavras que aparecem ao menos 2 vezes. Dessa \n",
    "    # forma, palavras com frequencia menor que isso\n",
    "    # são simplesmente ignoradas, e ai podem causar \n",
    "    # que ao tentar acessar elas, ocorra uma exceção\n",
    "    # porque ela não existe no modelo.\n",
    "    try:\n",
    "      sentenceValues.append(model.wv[word])\n",
    "    except:\n",
    "      pass\n",
    "\n",
    "  if len(sentenceValues) > 0:\n",
    "    return np.mean(sentenceValues, axis = 0)\n",
    "\n",
    "  return np.zeros(model.wv.vector_size)\n",
    "\n",
    "print('Testando com uma frase qualquer')\n",
    "print(getDocvector(sentences[0]))"
   ]
  },
  {
   "cell_type": "markdown",
   "metadata": {},
   "source": [
    "Com a função acima, podemos agora transformar todas as nossas mensagens do modelo para um vetores de valores, assim como, separar nossos valores de classificação e valores de treino e teste, da seguinte forma:\n",
    "\n",
    "- x = Valores que podem ser usados para descrever se é spam ou não\n",
    "- y = A informação se é realmente um spam"
   ]
  },
  {
   "cell_type": "code",
   "execution_count": 18,
   "metadata": {},
   "outputs": [
    {
     "name": "stdout",
     "output_type": "stream",
     "text": [
      "Shape do vetor de classe:  (5157,)\n",
      "Shape do vetor de valores:  (5157, 200)\n"
     ]
    }
   ],
   "source": [
    "y = data_set_processed[\"Category\"].to_numpy()\n",
    "x = []\n",
    "\n",
    "for sentence in data_set_processed[\"Message\"]:\n",
    "  x.append(getDocvector(sentence.split()))\n",
    "  \n",
    "x = np.array(x)\n",
    "\n",
    "print(\"Shape do vetor de classe: \", y.shape)\n",
    "print(\"Shape do vetor de valores: \", x.shape)"
   ]
  },
  {
   "cell_type": "markdown",
   "metadata": {},
   "source": [
    "## Separando os Dados\n",
    "\n",
    "Bom, após ter o modelo para poder transformar os textos em números, podemos agora começar a treinar o nosso modelo, mas antes, precisamos separar os dados que serão usados no treino.\n",
    "\n",
    "Vamos separar os valores em:\n",
    "\n",
    "- x_train = Valores de treino\n",
    "- y_train = A classe se diz se é spam ou não de treino\n",
    "- x_test = Valores para testar o modelo após o treino\n",
    "- y_test = A classe dizendo se é spam ou não de teste para testar o modelo após o treino"
   ]
  },
  {
   "cell_type": "code",
   "execution_count": 19,
   "metadata": {},
   "outputs": [],
   "source": [
    "x_train, x_test, y_train, y_test = train_test_split(x, y, test_size=0.3, random_state=1000)"
   ]
  },
  {
   "cell_type": "markdown",
   "metadata": {},
   "source": [
    "Além disso, vamos nos certificar que a tipagem dos valores estejam corretos, ou seja, todos sejam do tipo float."
   ]
  },
  {
   "cell_type": "code",
   "execution_count": 20,
   "metadata": {},
   "outputs": [],
   "source": [
    "x_train = x_train.astype(np.float64)\n",
    "x_test = x_test.astype(np.float64)"
   ]
  },
  {
   "cell_type": "markdown",
   "metadata": {},
   "source": [
    "Por fim, temos as seguintes métricas sobre os nossos dados de teste e treino."
   ]
  },
  {
   "cell_type": "code",
   "execution_count": 21,
   "metadata": {},
   "outputs": [
    {
     "name": "stdout",
     "output_type": "stream",
     "text": [
      "Qntd. de amostras de treino:  3609\n",
      "Qntd de amostras de teste:  1548\n",
      "\n",
      "Qtd. de dados de cada classe (treinamento)\n",
      "\tClasse ham:  3164\n",
      "\tClasse spam:  445\n",
      "\n",
      "Qtd. de dados de cada classe (teste)\n",
      "\tClasse ham:  1352\n",
      "\tClasse spam:  196\n"
     ]
    }
   ],
   "source": [
    "print(\"Qntd. de amostras de treino: \", x_train.shape[0])\n",
    "print(\"Qntd de amostras de teste: \", x_test.shape[0])\n",
    "\n",
    "print(\"\\nQtd. de dados de cada classe (treinamento)\")\n",
    "print(\"\\tClasse ham: \", len(y_train[y_train == 'ham']))\n",
    "print(\"\\tClasse spam: \", len(y_train[y_train == 'spam']))\n",
    "\n",
    "print(\"\\nQtd. de dados de cada classe (teste)\")\n",
    "print(\"\\tClasse ham: \", len(y_test[y_test == 'ham']))\n",
    "print(\"\\tClasse spam: \", len(y_test[y_test == 'spam']))"
   ]
  },
  {
   "cell_type": "markdown",
   "metadata": {},
   "source": [
    "## Tudo pronto\n",
    "\n",
    "Dessa forma, com os dados do nosso dataset preparado, podemos agora ir para os outros notebooks para rodar os métodos de classificação."
   ]
  }
 ],
 "metadata": {
  "interpreter": {
   "hash": "177401c68bf2cebd86e5b16616fdddb5ae8a22ec2666d9ac189b12bd387b0870"
  },
  "kernelspec": {
   "display_name": "Python 3.8.8 64-bit",
   "language": "python",
   "name": "python3"
  },
  "language_info": {
   "codemirror_mode": {
    "name": "ipython",
    "version": 3
   },
   "file_extension": ".py",
   "mimetype": "text/x-python",
   "name": "python",
   "nbconvert_exporter": "python",
   "pygments_lexer": "ipython3",
   "version": "3.8.8"
  },
  "orig_nbformat": 4
 },
 "nbformat": 4,
 "nbformat_minor": 2
}
