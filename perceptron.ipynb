{
 "cells": [
  {
   "cell_type": "markdown",
   "metadata": {},
   "source": [
    "## Avaliação Continuada (AC2) - Perceptron\n",
    "\n",
    "Nesse notebook, iremos ver como aplicar o método Perceptron na nossa base de dados que foi processada no notebook `train_data.ipynb`.\n",
    "\n",
    "Para começar então, vamos importar o notebook `train_data.ipynb` que irá conter tudo que precisamos."
   ]
  },
  {
   "cell_type": "code",
   "execution_count": 1,
   "metadata": {},
   "outputs": [
    {
     "name": "stdout",
     "output_type": "stream",
     "text": [
      "importing Jupyter notebook from train_data.ipynb\n"
     ]
    },
    {
     "data": {
      "text/html": [
       "<div>\n",
       "<style scoped>\n",
       "    .dataframe tbody tr th:only-of-type {\n",
       "        vertical-align: middle;\n",
       "    }\n",
       "\n",
       "    .dataframe tbody tr th {\n",
       "        vertical-align: top;\n",
       "    }\n",
       "\n",
       "    .dataframe thead th {\n",
       "        text-align: right;\n",
       "    }\n",
       "</style>\n",
       "<table border=\"1\" class=\"dataframe\">\n",
       "  <thead>\n",
       "    <tr style=\"text-align: right;\">\n",
       "      <th></th>\n",
       "      <th>Category</th>\n",
       "      <th>Message</th>\n",
       "    </tr>\n",
       "  </thead>\n",
       "  <tbody>\n",
       "    <tr>\n",
       "      <th>0</th>\n",
       "      <td>ham</td>\n",
       "      <td>Go until jurong point, crazy.. Available only ...</td>\n",
       "    </tr>\n",
       "    <tr>\n",
       "      <th>1</th>\n",
       "      <td>ham</td>\n",
       "      <td>Ok lar... Joking wif u oni...</td>\n",
       "    </tr>\n",
       "    <tr>\n",
       "      <th>2</th>\n",
       "      <td>spam</td>\n",
       "      <td>Free entry in 2 a wkly comp to win FA Cup fina...</td>\n",
       "    </tr>\n",
       "    <tr>\n",
       "      <th>3</th>\n",
       "      <td>ham</td>\n",
       "      <td>U dun say so early hor... U c already then say...</td>\n",
       "    </tr>\n",
       "    <tr>\n",
       "      <th>4</th>\n",
       "      <td>ham</td>\n",
       "      <td>Nah I don't think he goes to usf, he lives aro...</td>\n",
       "    </tr>\n",
       "  </tbody>\n",
       "</table>\n",
       "</div>"
      ],
      "text/plain": [
       "  Category                                            Message\n",
       "0      ham  Go until jurong point, crazy.. Available only ...\n",
       "1      ham                      Ok lar... Joking wif u oni...\n",
       "2     spam  Free entry in 2 a wkly comp to win FA Cup fina...\n",
       "3      ham  U dun say so early hor... U c already then say...\n",
       "4      ham  Nah I don't think he goes to usf, he lives aro..."
      ]
     },
     "metadata": {},
     "output_type": "display_data"
    },
    {
     "data": {
      "text/html": [
       "<div>\n",
       "<style scoped>\n",
       "    .dataframe tbody tr th:only-of-type {\n",
       "        vertical-align: middle;\n",
       "    }\n",
       "\n",
       "    .dataframe tbody tr th {\n",
       "        vertical-align: top;\n",
       "    }\n",
       "\n",
       "    .dataframe thead th {\n",
       "        text-align: right;\n",
       "    }\n",
       "</style>\n",
       "<table border=\"1\" class=\"dataframe\">\n",
       "  <thead>\n",
       "    <tr style=\"text-align: right;\">\n",
       "      <th></th>\n",
       "      <th>Category</th>\n",
       "      <th>Message</th>\n",
       "    </tr>\n",
       "  </thead>\n",
       "  <tbody>\n",
       "    <tr>\n",
       "      <th>count</th>\n",
       "      <td>5572</td>\n",
       "      <td>5572</td>\n",
       "    </tr>\n",
       "    <tr>\n",
       "      <th>unique</th>\n",
       "      <td>2</td>\n",
       "      <td>5157</td>\n",
       "    </tr>\n",
       "    <tr>\n",
       "      <th>top</th>\n",
       "      <td>ham</td>\n",
       "      <td>Sorry, I'll call later</td>\n",
       "    </tr>\n",
       "    <tr>\n",
       "      <th>freq</th>\n",
       "      <td>4825</td>\n",
       "      <td>30</td>\n",
       "    </tr>\n",
       "  </tbody>\n",
       "</table>\n",
       "</div>"
      ],
      "text/plain": [
       "       Category                 Message\n",
       "count      5572                    5572\n",
       "unique        2                    5157\n",
       "top         ham  Sorry, I'll call later\n",
       "freq       4825                      30"
      ]
     },
     "metadata": {},
     "output_type": "display_data"
    },
    {
     "name": "stdout",
     "output_type": "stream",
     "text": [
      "Shape antes de remover os dados.\n",
      "(5572, 2)\n",
      "\n",
      "Shape após remover os dados.\n",
      "(5157, 2)\n",
      "\n",
      "Quantidade de itens removidos: 415\n",
      "Um dos textos antes do processamento:\n"
     ]
    },
    {
     "data": {
      "text/plain": [
       "'I sent you  &lt;#&gt;  bucks'"
      ]
     },
     "metadata": {},
     "output_type": "display_data"
    },
    {
     "name": "stdout",
     "output_type": "stream",
     "text": [
      "O mesmo texto, só que agora processado:\n"
     ]
    },
    {
     "data": {
      "text/plain": [
       "'sent you bucks'"
      ]
     },
     "metadata": {},
     "output_type": "display_data"
    },
    {
     "name": "stdout",
     "output_type": "stream",
     "text": [
      "Algumas palavras que iremos usar para montar o nosso vocabulário:\n",
      "['go', 'until', 'jurong', 'point', 'crazy', 'available', 'only', 'in', 'bugis', 'great', 'world', 'la', 'buffet', 'cine', 'there', 'got', 'amore', 'wat']\n",
      "Tamanho do Vocabulario:  3632\n",
      "[ 1.59629866e-01 -1.10554872e-02 -2.85293967e-01 -2.42690906e-01\n",
      "  7.21771181e-01  7.32151717e-02  5.67456186e-02 -1.87724203e-01\n",
      " -1.22484542e-01  2.24399030e-01  7.39724413e-02  2.45748281e-01\n",
      "  3.30503613e-01  6.04098774e-02 -3.94032076e-02 -1.07717223e-01\n",
      "  4.71422911e-01 -5.60647011e-01 -2.26922616e-01  4.46216166e-01\n",
      " -3.27260315e-01 -1.47730947e-01 -6.72238693e-02  9.02423859e-02\n",
      "  1.76793739e-01  2.30422914e-01 -5.84167168e-02  6.83692545e-02\n",
      " -3.92336249e-01 -8.17217231e-02 -5.36404587e-02 -3.05875409e-02\n",
      "  5.70999980e-01  1.69829965e-01 -5.70866108e-01  6.26165047e-02\n",
      "  2.05268517e-01 -9.98219922e-02 -2.20045820e-02  3.49807084e-01\n",
      " -1.45130694e-01 -2.09874123e-01 -2.20444903e-01 -8.18783939e-02\n",
      " -4.05738167e-02 -5.75792976e-02 -6.43867329e-02  9.99085009e-02\n",
      "  2.15608343e-01  4.35515540e-03 -4.05019196e-03 -1.44691631e-01\n",
      "  2.41145626e-01  3.01534384e-01  2.30401233e-02 -4.19078588e-01\n",
      "  2.05605641e-01 -2.32893810e-01 -6.28623888e-02  3.77013057e-01\n",
      " -2.85853952e-01  5.79912305e-01  5.14653251e-02 -1.30702168e-01\n",
      "  6.09474659e-01  1.49334027e-02 -3.36613625e-01  2.18483344e-01\n",
      "  1.81132749e-01 -1.01296611e-01 -1.60208121e-01 -5.13602197e-02\n",
      "  8.57439414e-02  1.66518614e-01  1.40921429e-01  5.29887676e-01\n",
      "  1.26168638e-01 -3.42554539e-01 -5.14769927e-02  1.62870623e-02\n",
      "  2.25220546e-01  4.51856442e-02 -6.24991059e-01 -4.20825839e-01\n",
      "  1.66084990e-01  1.66890875e-01  4.26658332e-01  2.68528517e-03\n",
      " -3.41651112e-01  3.04023445e-01 -6.18747585e-02  1.35410592e-01\n",
      " -4.75929826e-02 -1.04816094e-01 -2.41022438e-01  1.23270646e-01\n",
      "  4.59392816e-01 -4.34843481e-01 -1.96883217e-01  1.04085229e-01\n",
      " -2.89394736e-01 -3.19924235e-01 -2.64022164e-02 -4.06812459e-01\n",
      " -2.18547255e-01  3.12037885e-01  1.22064725e-01 -7.12791905e-02\n",
      "  2.36123279e-01 -3.36913951e-02  2.70300984e-01 -8.31313878e-02\n",
      "  1.43296078e-01  5.85055947e-01  2.70060509e-01 -1.93132252e-01\n",
      " -3.74678612e-01  1.45428240e-01 -3.44556957e-01  1.01937093e-02\n",
      "  1.74727902e-01  4.23953533e-01  8.86534303e-02 -3.41993213e-01\n",
      "  1.87824652e-01 -1.05376810e-01  5.24217784e-02  2.09705442e-01\n",
      " -5.86931929e-02  1.07134283e-01  2.96688169e-01  2.72893369e-01\n",
      " -7.07850158e-02 -5.64762997e-03 -1.47649512e-01 -1.76875874e-01\n",
      "  2.99845904e-01 -2.15335935e-01  7.41720557e-01  4.86671031e-02\n",
      " -7.62492716e-02 -9.44884792e-02 -1.91861257e-01  1.95611775e-01\n",
      " -9.23445895e-02 -1.94768667e-01 -3.47392522e-02 -2.25568101e-01\n",
      " -3.34754974e-01  1.95638955e-01 -4.52731311e-01  8.74990746e-02\n",
      " -3.86374384e-01  7.23858833e-01 -4.10545394e-02 -4.12584275e-01\n",
      " -2.13060513e-01  1.70251757e-01 -2.99809128e-01 -1.27159670e-01\n",
      "  4.24971610e-01  3.42443526e-01 -1.35939628e-01 -8.70267674e-02\n",
      "  4.06274498e-01 -1.09925397e-01 -1.18019968e-01 -7.69114867e-02\n",
      " -2.64531318e-02  3.23000759e-01 -5.38016319e-01  2.16399252e-01\n",
      " -1.48699403e-01 -3.62849742e-01  1.03290953e-01  3.65224391e-01\n",
      "  1.07752539e-01 -1.72081098e-01  6.49147630e-02  2.28363901e-01\n",
      "  2.14908808e-01  6.46361113e-02  3.53873163e-01 -3.80509675e-01\n",
      " -2.74539351e-01 -5.24397254e-01  6.09994866e-02  3.81001860e-01\n",
      " -8.06330740e-02  6.98416680e-02  1.46287261e-04 -7.51234889e-02\n",
      "  2.96421975e-01 -2.13121817e-01  1.90365538e-01  3.78738493e-01\n",
      " -2.77375042e-01  4.07980353e-01 -3.74115318e-01  1.35365993e-01]\n",
      "[('claim', 0.9993700981140137), ('prize', 0.9993271827697754), ('guaranteed', 0.9991467595100403), ('free', 0.9989945292472839), ('stop', 0.9989907145500183), ('cash', 0.9989585280418396), ('txt', 0.9989391565322876), ('<NUMBER>p', 0.9989289045333862), ('reply', 0.9987348318099976), ('<NUMBER>', 0.9987245202064514)]\n",
      "Testando com uma frase qualquer\n",
      "[ 0.08530153  0.02767921 -0.18105423 -0.1439409   0.42965728  0.04948757\n",
      "  0.03604606 -0.09110236 -0.0335626   0.12958582  0.02691229  0.13910687\n",
      "  0.18071002  0.02211937 -0.03059184 -0.05865623  0.24446724 -0.31685913\n",
      " -0.12349333  0.25256637 -0.16717595 -0.09822917 -0.02663875  0.06925282\n",
      "  0.109077    0.13539013 -0.02391702  0.03523005 -0.24150343 -0.04521779\n",
      " -0.01785565 -0.01482372  0.33848605  0.09167587 -0.2966973   0.03340756\n",
      "  0.13124189 -0.04806239 -0.02187892  0.17921175 -0.09371046 -0.11550186\n",
      " -0.10229085 -0.05416601 -0.02246319 -0.03344475 -0.04479914  0.08216584\n",
      "  0.13401696 -0.00838327 -0.01704568 -0.11246021  0.14862114  0.18261515\n",
      "  0.01263053 -0.24336533  0.11740862 -0.13893151 -0.03589379  0.21863906\n",
      " -0.16845684  0.3265698   0.03198146 -0.07292455  0.32275644  0.00553903\n",
      " -0.19640714  0.11544886  0.09046435 -0.0505005  -0.06850842 -0.01843621\n",
      "  0.038241    0.09719916  0.08337791  0.28703356  0.10071021 -0.201701\n",
      " -0.02808807  0.01818042  0.15099652  0.03704688 -0.34291902 -0.21950458\n",
      "  0.1184113   0.08148734  0.24275859  0.00642111 -0.18400323  0.15756685\n",
      " -0.02537818  0.07686929 -0.02596244 -0.05900048 -0.1574786   0.07716455\n",
      "  0.27207923 -0.227196   -0.12024496  0.06080848 -0.16719523 -0.17825761\n",
      " -0.01740286 -0.22160655 -0.12424031  0.17285483  0.08811555 -0.0282378\n",
      "  0.1369512  -0.0364719   0.16120724 -0.02643434  0.09161343  0.33038834\n",
      "  0.14329207 -0.11517389 -0.22965164  0.09144174 -0.20089702 -0.01790451\n",
      "  0.08743161  0.23385285  0.01625511 -0.17605284  0.08527311 -0.03461952\n",
      "  0.00671897  0.10965149 -0.03124927  0.07870878  0.1528844   0.13980885\n",
      " -0.0467396  -0.00130798 -0.07716551 -0.11318493  0.17467757 -0.10890298\n",
      "  0.40496108  0.02877997 -0.06233875 -0.06958594 -0.12677778  0.0870097\n",
      " -0.05441284 -0.12728854 -0.00856038 -0.13786307 -0.19603436  0.12195709\n",
      " -0.23279184  0.06025727 -0.22668466  0.4058959  -0.01901169 -0.23320287\n",
      " -0.13370642  0.09261216 -0.13983129 -0.05652954  0.22672747  0.21421544\n",
      " -0.04729932 -0.05923708  0.22264583 -0.05315753 -0.07020524 -0.04151518\n",
      "  0.01491653  0.16900334 -0.30765152  0.14180374 -0.09033558 -0.21890877\n",
      "  0.05207897  0.17995171  0.05783791 -0.10685199  0.03512773  0.12761791\n",
      "  0.11048118  0.03422682  0.20259155 -0.22463623 -0.16085887 -0.2754126\n",
      "  0.04976413  0.1980182  -0.04878676  0.02217035 -0.00738689 -0.04788386\n",
      "  0.17260078 -0.12137245  0.12288098  0.19820608 -0.15344387  0.22593452\n",
      " -0.20782267  0.07748045]\n",
      "Shape do vetor de classe:  (5157,)\n",
      "Shape do vetor de valores:  (5157, 200)\n",
      "Qntd. de amostras de treino:  3609\n",
      "Qntd de amostras de teste:  1548\n",
      "\n",
      "Qtd. de dados de cada classe (treinamento)\n",
      "\tClasse ham:  3164\n",
      "\tClasse spam:  445\n",
      "\n",
      "Qtd. de dados de cada classe (teste)\n",
      "\tClasse ham:  1352\n",
      "\tClasse spam:  196\n"
     ]
    }
   ],
   "source": [
    "import import_ipynb\n",
    "import train_data"
   ]
  },
  {
   "cell_type": "markdown",
   "metadata": {},
   "source": [
    "## Treinamento\n",
    "\n",
    "Agora, com os dados separados, vamos começar o treinamento usando o método Perceptron."
   ]
  },
  {
   "cell_type": "markdown",
   "metadata": {},
   "source": [
    "Primeiro, importamos o método que iremos usar."
   ]
  },
  {
   "cell_type": "code",
   "execution_count": 2,
   "metadata": {},
   "outputs": [],
   "source": [
    "import sklearn\n",
    "from sklearn.linear_model import Perceptron"
   ]
  },
  {
   "cell_type": "markdown",
   "metadata": {},
   "source": [
    "Depois, podemos definir algumas variáveis para customizar o comportamento do nosso modelo."
   ]
  },
  {
   "cell_type": "code",
   "execution_count": 3,
   "metadata": {},
   "outputs": [],
   "source": [
    "n_interations = 100 # vai controlar a quantidade de interações que será realizada no modelo, também chamado de epochs\n",
    "learning_rate = 0.1 # a constante que representa a taxa de aprendizado"
   ]
  },
  {
   "cell_type": "markdown",
   "metadata": {},
   "source": [
    "Depois, criamos o nosso modelo da seguinte forma:"
   ]
  },
  {
   "cell_type": "code",
   "execution_count": 4,
   "metadata": {},
   "outputs": [],
   "source": [
    "perceptron = Perceptron(max_iter=n_interations, eta0=learning_rate, random_state=0)"
   ]
  },
  {
   "cell_type": "markdown",
   "metadata": {},
   "source": [
    "E ai, já podemos começar o treinamento do modelo."
   ]
  },
  {
   "cell_type": "code",
   "execution_count": 5,
   "metadata": {},
   "outputs": [
    {
     "data": {
      "text/plain": [
       "Perceptron(eta0=0.1, max_iter=100)"
      ]
     },
     "execution_count": 5,
     "metadata": {},
     "output_type": "execute_result"
    }
   ],
   "source": [
    "perceptron.fit(train_data.x_train, train_data.y_train) "
   ]
  },
  {
   "cell_type": "markdown",
   "metadata": {},
   "source": [
    "E com o modelo treinado, podemos começar a ver as métricas de acurácia do nosso modelo tentando predizer os valores de teste que separamos na etapa anterior."
   ]
  },
  {
   "cell_type": "code",
   "execution_count": 6,
   "metadata": {},
   "outputs": [],
   "source": [
    "y_pred = perceptron.predict(train_data.x_test) "
   ]
  },
  {
   "cell_type": "markdown",
   "metadata": {},
   "source": [
    "Com os valores que foram classificados acima, podemos ver qual foi a sua performance usando o `sklearn` da seguinte forma:"
   ]
  },
  {
   "cell_type": "code",
   "execution_count": 7,
   "metadata": {},
   "outputs": [
    {
     "name": "stdout",
     "output_type": "stream",
     "text": [
      "              precision    recall  f1-score   support\n",
      "\n",
      "         ham       0.93      0.98      0.95      1352\n",
      "        spam       0.77      0.49      0.60       196\n",
      "\n",
      "    accuracy                           0.92      1548\n",
      "   macro avg       0.85      0.73      0.78      1548\n",
      "weighted avg       0.91      0.92      0.91      1548\n",
      "\n"
     ]
    }
   ],
   "source": [
    "results = sklearn.metrics.classification_report(train_data.y_test, y_pred, target_names=['ham', 'spam'])\n",
    "\n",
    "print(results)"
   ]
  },
  {
   "cell_type": "markdown",
   "metadata": {},
   "source": [
    "Com a tabela acima, podemos tirar algumas conclusões como: \n",
    "\n",
    "A precisão para identificar mensagens verdadeiras é maior do que a precisão do que identificar mensagens de spam. E isso não necessariamente é ruim porque é melhor errar mais mensagens de spam do que mensagens verdadeiras.\n",
    "\n",
    "Dessa forma, no pior dos casos ainda vemos o spam e ignoramos mas com a mensagem real indo parar no spam, é mais dificil de ir lá olhar.\n",
    "\n",
    "E além disso, podemos checar a nossa acurácia com mais precisão tanto dos valores de teste quanto dos valores de treino da seguinte forma:"
   ]
  },
  {
   "cell_type": "code",
   "execution_count": 8,
   "metadata": {},
   "outputs": [
    {
     "name": "stdout",
     "output_type": "stream",
     "text": [
      "Acurácia sobre os valores de teste:  0.9166666666666666\n",
      "Acurácia sobre os valores de treino:  0.9340537545026323\n"
     ]
    }
   ],
   "source": [
    "accuracyTest = train_data.accuracy_score(train_data.y_test, perceptron.predict(train_data.x_test))\n",
    "accuracyTrain = train_data.accuracy_score(train_data.y_train, perceptron.predict(train_data.x_train))\n",
    "\n",
    "print(\"Acurácia sobre os valores de teste: \", accuracyTest)\n",
    "print(\"Acurácia sobre os valores de treino: \", accuracyTrain)"
   ]
  },
  {
   "cell_type": "markdown",
   "metadata": {},
   "source": [
    "E aqui vemos, temos, assim como mostrado no relatório anterior, certa de 93% e 93% de acurácia sobre os valores de teste e de treino, respectivamente."
   ]
  },
  {
   "cell_type": "markdown",
   "metadata": {},
   "source": [
    "## Cross-Validation\n",
    "\n",
    "Apesar de eu não entender tão bem como funciona a validação cruzada, eu quis trazer nesses métodos para ter um pequena noção de como a ordem dos dados de treinamento influenciam o nosso modelo.\n",
    "\n",
    "Dessa forma, o cross-validation permite que a gente separe em partições os nossos dados, e eles por consequencia, serão usados para treinar várias vezes o modelo e assim podemos obter as métrica de acurácia de cada vez que foi treinado o modelo.\n",
    "\n",
    "Com essas métricas, podemos verificar se a mudança na ordem dos dados tem uma mudança significativa na acurácia do nosso modelo.\n",
    "\n",
    "Vamos começar então com a importação das bibliotecas que iremos usar."
   ]
  },
  {
   "cell_type": "code",
   "execution_count": 9,
   "metadata": {},
   "outputs": [],
   "source": [
    "from sklearn.model_selection import cross_val_score\n",
    "from sklearn.model_selection import ShuffleSplit"
   ]
  },
  {
   "cell_type": "markdown",
   "metadata": {},
   "source": [
    "Depois, vamos criar algumas variáveis para configurarmos como será a cross-validation."
   ]
  },
  {
   "cell_type": "code",
   "execution_count": 10,
   "metadata": {},
   "outputs": [],
   "source": [
    "n_splits = 5 # o número de partições\n",
    "test_size = 0.3 # a porcentagem que será usada para teste, o restante é usada no treino\n",
    "cv = ShuffleSplit(n_splits=n_splits, test_size=test_size, random_state=0) # define a função que irá realizar o rearranjo dos dados de treino e como será divido os dados."
   ]
  },
  {
   "cell_type": "markdown",
   "metadata": {},
   "source": [
    "E assim, podemos agora chamar a função `cross_val_score` que irá nos retornar a acurácia, assim como, o desvio da acurácia que nos diz quanto a ordem os dados está influenciando o modelo."
   ]
  },
  {
   "cell_type": "code",
   "execution_count": 11,
   "metadata": {},
   "outputs": [
    {
     "name": "stdout",
     "output_type": "stream",
     "text": [
      "0.91 acurácia com o desvio de 0.02\n"
     ]
    }
   ],
   "source": [
    "scores = cross_val_score(perceptron, train_data.x, train_data.y, cv=cv)\n",
    "\n",
    "print(\"%0.2f acurácia com o desvio de %0.2f\" % (scores.mean(), scores.std()))"
   ]
  },
  {
   "cell_type": "markdown",
   "metadata": {},
   "source": [
    "É interessante ver que a acurácia praticamente se manteve na mesma, em 91%.\n",
    "\n",
    "Isso foi um comportamento estranho comparado a outras execuções, eu executei isso em dois dias diferentes e tive resultados diferentes, apesar de setar e tentar deixar os mesmos estados randomicos (random_state=0), ele ainda teve uma diferença ao ser executado em dias diferentes.\n",
    "\n",
    "E professor, se você chegou até aqui, seria interessante ver mais sobre cross-validation nas aulas."
   ]
  }
 ],
 "metadata": {
  "interpreter": {
   "hash": "177401c68bf2cebd86e5b16616fdddb5ae8a22ec2666d9ac189b12bd387b0870"
  },
  "kernelspec": {
   "display_name": "Python 3.8.8 64-bit",
   "language": "python",
   "name": "python3"
  },
  "language_info": {
   "codemirror_mode": {
    "name": "ipython",
    "version": 3
   },
   "file_extension": ".py",
   "mimetype": "text/x-python",
   "name": "python",
   "nbconvert_exporter": "python",
   "pygments_lexer": "ipython3",
   "version": "3.8.8"
  },
  "orig_nbformat": 4
 },
 "nbformat": 4,
 "nbformat_minor": 2
}
