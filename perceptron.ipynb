{
 "cells": [
  {
   "cell_type": "markdown",
   "metadata": {},
   "source": [
    "## Avaliação Continuada (AC2) - Perceptron\n",
    "\n",
    "Nesse notebook, iremos ver como aplicar o método Perceptron na nossa base de dados que foi processada no notebook `train_data.ipynb`.\n",
    "\n",
    "Para começar então, vamos importar o notebook `train_data.ipynb` que irá conter tudo que precisamos."
   ]
  },
  {
   "cell_type": "code",
   "execution_count": 1,
   "metadata": {},
   "outputs": [
    {
     "name": "stdout",
     "output_type": "stream",
     "text": [
      "importing Jupyter notebook from train_data.ipynb\n"
     ]
    },
    {
     "data": {
      "text/html": [
       "<div>\n",
       "<style scoped>\n",
       "    .dataframe tbody tr th:only-of-type {\n",
       "        vertical-align: middle;\n",
       "    }\n",
       "\n",
       "    .dataframe tbody tr th {\n",
       "        vertical-align: top;\n",
       "    }\n",
       "\n",
       "    .dataframe thead th {\n",
       "        text-align: right;\n",
       "    }\n",
       "</style>\n",
       "<table border=\"1\" class=\"dataframe\">\n",
       "  <thead>\n",
       "    <tr style=\"text-align: right;\">\n",
       "      <th></th>\n",
       "      <th>Category</th>\n",
       "      <th>Message</th>\n",
       "    </tr>\n",
       "  </thead>\n",
       "  <tbody>\n",
       "    <tr>\n",
       "      <th>0</th>\n",
       "      <td>ham</td>\n",
       "      <td>Go until jurong point, crazy.. Available only ...</td>\n",
       "    </tr>\n",
       "    <tr>\n",
       "      <th>1</th>\n",
       "      <td>ham</td>\n",
       "      <td>Ok lar... Joking wif u oni...</td>\n",
       "    </tr>\n",
       "    <tr>\n",
       "      <th>2</th>\n",
       "      <td>spam</td>\n",
       "      <td>Free entry in 2 a wkly comp to win FA Cup fina...</td>\n",
       "    </tr>\n",
       "    <tr>\n",
       "      <th>3</th>\n",
       "      <td>ham</td>\n",
       "      <td>U dun say so early hor... U c already then say...</td>\n",
       "    </tr>\n",
       "    <tr>\n",
       "      <th>4</th>\n",
       "      <td>ham</td>\n",
       "      <td>Nah I don't think he goes to usf, he lives aro...</td>\n",
       "    </tr>\n",
       "  </tbody>\n",
       "</table>\n",
       "</div>"
      ],
      "text/plain": [
       "  Category                                            Message\n",
       "0      ham  Go until jurong point, crazy.. Available only ...\n",
       "1      ham                      Ok lar... Joking wif u oni...\n",
       "2     spam  Free entry in 2 a wkly comp to win FA Cup fina...\n",
       "3      ham  U dun say so early hor... U c already then say...\n",
       "4      ham  Nah I don't think he goes to usf, he lives aro..."
      ]
     },
     "metadata": {},
     "output_type": "display_data"
    },
    {
     "data": {
      "text/html": [
       "<div>\n",
       "<style scoped>\n",
       "    .dataframe tbody tr th:only-of-type {\n",
       "        vertical-align: middle;\n",
       "    }\n",
       "\n",
       "    .dataframe tbody tr th {\n",
       "        vertical-align: top;\n",
       "    }\n",
       "\n",
       "    .dataframe thead th {\n",
       "        text-align: right;\n",
       "    }\n",
       "</style>\n",
       "<table border=\"1\" class=\"dataframe\">\n",
       "  <thead>\n",
       "    <tr style=\"text-align: right;\">\n",
       "      <th></th>\n",
       "      <th>Category</th>\n",
       "      <th>Message</th>\n",
       "    </tr>\n",
       "  </thead>\n",
       "  <tbody>\n",
       "    <tr>\n",
       "      <th>count</th>\n",
       "      <td>5572</td>\n",
       "      <td>5572</td>\n",
       "    </tr>\n",
       "    <tr>\n",
       "      <th>unique</th>\n",
       "      <td>2</td>\n",
       "      <td>5157</td>\n",
       "    </tr>\n",
       "    <tr>\n",
       "      <th>top</th>\n",
       "      <td>ham</td>\n",
       "      <td>Sorry, I'll call later</td>\n",
       "    </tr>\n",
       "    <tr>\n",
       "      <th>freq</th>\n",
       "      <td>4825</td>\n",
       "      <td>30</td>\n",
       "    </tr>\n",
       "  </tbody>\n",
       "</table>\n",
       "</div>"
      ],
      "text/plain": [
       "       Category                 Message\n",
       "count      5572                    5572\n",
       "unique        2                    5157\n",
       "top         ham  Sorry, I'll call later\n",
       "freq       4825                      30"
      ]
     },
     "metadata": {},
     "output_type": "display_data"
    },
    {
     "name": "stdout",
     "output_type": "stream",
     "text": [
      "Shape antes de remover os dados.\n",
      "(5572, 2)\n",
      "\n",
      "Shape após remover os dados.\n",
      "(5157, 2)\n",
      "\n",
      "Quantidade de itens removidos: 415\n",
      "Um dos textos antes do processamento:\n"
     ]
    },
    {
     "data": {
      "text/plain": [
       "'I sent you  &lt;#&gt;  bucks'"
      ]
     },
     "metadata": {},
     "output_type": "display_data"
    },
    {
     "name": "stdout",
     "output_type": "stream",
     "text": [
      "O mesmo texto, só que agora processado:\n"
     ]
    },
    {
     "data": {
      "text/plain": [
       "'sent you bucks'"
      ]
     },
     "metadata": {},
     "output_type": "display_data"
    },
    {
     "name": "stdout",
     "output_type": "stream",
     "text": [
      "Algumas palavras que iremos usar para montar o nosso vocabulário:\n",
      "['go', 'until', 'jurong', 'point', 'crazy', 'available', 'only', 'in', 'bugis', 'great', 'world', 'la', 'buffet', 'cine', 'there', 'got', 'amore', 'wat']\n",
      "Tamanho do Vocabulario:  3632\n",
      "[ 0.17298059 -0.12730037 -0.08990677  0.1658044   0.2830998  -0.35171896\n",
      "  0.20532139  0.6496812  -0.19397533  0.23911075 -0.24672031 -0.39574838\n",
      "  0.12225588  0.20485836 -0.09067287 -0.35339254 -0.08169971 -0.02069619\n",
      "  0.02989911 -0.5034012   0.23397681 -0.31133887 -0.16868372 -0.1244454\n",
      "  0.09479164 -0.24028893 -0.04909417 -0.1424595  -0.3441023   0.14649226\n",
      "  0.40862703  0.01599889  0.166184   -0.08662187 -0.07782395  0.2334802\n",
      "  0.28667802 -0.13569346 -0.07085948 -0.5217293  -0.33183533 -0.09353404\n",
      "  0.00412842  0.11887     0.5155706  -0.14765029 -0.22448291 -0.09404226\n",
      "  0.16624415  0.21626587  0.01244251 -0.15770991 -0.22843757 -0.29258433\n",
      "  0.08290733 -0.09509762 -0.00700543 -0.31515178 -0.32085517  0.1416506\n",
      " -0.00293808  0.04733387 -0.00272001 -0.07052542 -0.6293403   0.14516534\n",
      "  0.01520207  0.6691697  -0.31719774  0.4983542  -0.02470005  0.01081293\n",
      "  0.35487813  0.03989122  0.11837397  0.20668763  0.28309938 -0.24842384\n",
      " -0.50863    -0.0562125  -0.2209481  -0.06854467 -0.484469    0.6571755\n",
      " -0.27860197 -0.04058131  0.02030643  0.3240165   0.04123358 -0.21196157\n",
      "  0.21125327  0.3669022   0.23558672  0.42329058  0.62537074  0.3472726\n",
      "  0.17043881 -0.36794177  0.29325372  0.23598112 -0.50967747  0.50581354\n",
      "  0.19064197 -0.1818013  -0.32689703 -0.3664432   0.12996991  0.4753446\n",
      " -0.25368398 -0.4244211  -0.05413803 -0.46878624 -0.09480733 -0.08193212\n",
      "  0.15013054 -0.08466746  0.28681627 -0.63429    -0.25829422 -0.2942353\n",
      "  0.01830193  0.34505472  0.21499023 -0.2988988  -0.27007312  0.32404524\n",
      " -0.22578909 -0.16461192 -0.19391665  0.04519156  0.24260376  0.13804302\n",
      " -0.23128319 -0.23258576 -0.17373227  0.45151097 -0.22763683 -0.40223777\n",
      " -0.12730369 -0.43042845  0.28102    -0.47233567 -0.09572995 -0.09206768\n",
      "  0.03811831 -0.15121563 -0.19889994  0.12311818  0.00397545  0.04000041\n",
      "  0.1506141  -0.36797556  0.07136169  0.15219851 -0.7164926   0.5235237\n",
      "  0.32516617  0.39439836 -0.05826591  0.1638337   0.23989874  0.2106214\n",
      " -0.09822696 -0.07702292 -0.00558244  0.17925604  0.14532785 -0.2697137\n",
      " -0.22038893  0.09967687 -0.3045726   0.20367613 -0.03515747 -0.22627398\n",
      "  0.18188433  0.21373534 -0.28587437  0.1442402   0.14952223  0.19218346\n",
      " -0.01436359  0.02297117  0.03040755  0.05771513  0.11412785  0.04611887\n",
      " -0.06291151  0.16325955  0.42159513  0.06987601  0.40804926  0.04533133\n",
      " -0.23107311 -0.22974351  0.21537665  0.27931005  0.25980544 -0.43631092\n",
      " -0.02421977 -0.12141026]\n",
      "[('claim', 0.9994469285011292), ('prize', 0.9993099570274353), ('cash', 0.999260663986206), ('guaranteed', 0.9989599585533142), ('or', 0.9989213347434998), ('landline', 0.9988507628440857), ('stop', 0.9988390803337097), ('<NUMBER>p', 0.9987451434135437), ('txt', 0.9986414909362793), ('free', 0.9986410140991211)]\n",
      "Testando com uma frase qualquer\n",
      "[ 9.38311443e-02 -7.79320374e-02 -6.28526360e-02  7.23100379e-02\n",
      "  1.91440836e-01 -2.03977317e-01  7.08927587e-02  3.57482731e-01\n",
      " -1.21840678e-01  1.08999461e-01 -1.59382388e-01 -2.02799484e-01\n",
      "  7.23521337e-02  1.28606156e-01 -4.22837436e-02 -1.83604598e-01\n",
      " -6.08027503e-02 -4.71172389e-03  6.14698837e-03 -2.70844728e-01\n",
      "  1.15614228e-01 -1.44422844e-01 -6.84098899e-02 -8.64204913e-02\n",
      "  5.46344854e-02 -1.26608178e-01 -3.10521591e-02 -8.32327455e-02\n",
      " -1.87799782e-01  1.02902815e-01  2.23769352e-01  2.13932199e-03\n",
      "  7.01070949e-02 -2.23685186e-02 -3.62261385e-02  1.29500046e-01\n",
      "  1.28481761e-01 -7.90842175e-02 -3.54440920e-02 -3.09368521e-01\n",
      " -1.59267455e-01 -2.00691298e-02  9.23384540e-03  6.72256649e-02\n",
      "  3.02826881e-01 -5.22707254e-02 -1.20041169e-01 -8.23745281e-02\n",
      "  9.29218158e-02  1.06242739e-01  1.79337338e-02 -1.03178129e-01\n",
      " -1.22506440e-01 -1.56347752e-01  3.86066996e-02 -3.35095003e-02\n",
      " -1.87366959e-02 -1.61084935e-01 -1.71835288e-01  6.12623915e-02\n",
      "  4.14378894e-03  1.97193045e-02 -1.24810701e-02 -3.72167118e-02\n",
      " -3.33981425e-01  9.40023363e-02  1.81208737e-02  3.52501094e-01\n",
      " -1.84594616e-01  2.93481648e-01 -2.53730267e-02  7.89019931e-03\n",
      "  2.03717053e-01  1.33405197e-02  6.55233711e-02  1.07028387e-01\n",
      "  1.58272490e-01 -1.64707959e-01 -3.13388526e-01 -9.92255658e-03\n",
      " -1.34603217e-01 -3.46909091e-02 -2.63838589e-01  3.78082067e-01\n",
      " -1.41066879e-01 -3.34649310e-02 -1.39673194e-03  1.79640085e-01\n",
      "  1.82306115e-02 -1.25578135e-01  1.25507697e-01  2.04364553e-01\n",
      "  1.33192122e-01  2.47189209e-01  3.42265636e-01  1.90707624e-01\n",
      "  1.08229347e-01 -1.84980035e-01  1.66021466e-01  1.38095886e-01\n",
      " -2.74205655e-01  2.94289172e-01  9.38305184e-02 -9.73494947e-02\n",
      " -1.95465624e-01 -2.09334210e-01  8.98479149e-02  2.84191757e-01\n",
      " -1.43045515e-01 -2.38495588e-01 -3.79419439e-02 -2.57540047e-01\n",
      " -6.00133836e-02 -6.16411157e-02  7.33068138e-02 -7.42627382e-02\n",
      "  1.50256887e-01 -3.78829747e-01 -1.43645525e-01 -1.63201392e-01\n",
      " -3.64203518e-03  1.92746356e-01  1.05326682e-01 -1.42513961e-01\n",
      " -1.60676539e-01  1.62384629e-01 -1.02025792e-01 -1.22584306e-01\n",
      " -9.63157564e-02 -1.76756531e-02  1.37481317e-01  6.07413389e-02\n",
      " -1.14243202e-01 -1.21324308e-01 -7.76308179e-02  2.36123204e-01\n",
      " -1.22793734e-01 -2.16569483e-01 -1.00444272e-01 -2.51692295e-01\n",
      "  1.51787102e-01 -2.54967034e-01 -5.44875152e-02 -6.94404766e-02\n",
      " -3.04919947e-03 -6.76914454e-02 -1.25919908e-01  7.57472813e-02\n",
      "  1.05628856e-02  2.30957475e-02  7.42620304e-02 -2.02582791e-01\n",
      "  3.33019197e-02  8.59865770e-02 -3.83620232e-01  2.87524164e-01\n",
      "  1.76015779e-01  2.04857081e-01 -3.75205278e-02  9.89223123e-02\n",
      "  1.48268402e-01  9.85349268e-02 -5.18778861e-02 -3.72398943e-02\n",
      " -2.94521172e-03  1.06382295e-01  7.99997598e-02 -1.49331436e-01\n",
      " -1.59912050e-01  2.86769606e-02 -1.67077482e-01  1.10735342e-01\n",
      " -1.19167203e-02 -1.35827601e-01  9.30351689e-02  1.32449210e-01\n",
      " -1.63542032e-01  9.50545073e-02  6.86669946e-02  1.21051565e-01\n",
      " -1.06094861e-02  1.76196974e-02 -1.02682505e-02  4.17131521e-02\n",
      "  8.95641297e-02  3.03434245e-02 -2.26477459e-02  1.31077766e-01\n",
      "  2.34165639e-01  3.38691697e-02  2.24031419e-01  3.24051753e-02\n",
      " -1.31045148e-01 -9.52996388e-02  1.10523552e-01  1.50239080e-01\n",
      "  1.47813305e-01 -2.50764966e-01  2.78942578e-04 -7.37990662e-02]\n",
      "Shape do vetor de classe:  (5157,)\n",
      "Shape do vetor de valores:  (5157, 200)\n",
      "Qntd. de amostras de treino:  3609\n",
      "Qntd de amostras de teste:  1548\n",
      "\n",
      "Qtd. de dados de cada classe (treinamento)\n",
      "\tClasse ham:  3164\n",
      "\tClasse spam:  445\n",
      "\n",
      "Qtd. de dados de cada classe (teste)\n",
      "\tClasse ham:  1352\n",
      "\tClasse spam:  196\n"
     ]
    }
   ],
   "source": [
    "import import_ipynb\n",
    "import train_data"
   ]
  },
  {
   "cell_type": "markdown",
   "metadata": {},
   "source": [
    "## Treinamento\n",
    "\n",
    "Agora, com os dados separados, vamos começar o treinamento usando o método Perceptron."
   ]
  },
  {
   "cell_type": "markdown",
   "metadata": {},
   "source": [
    "Primeiro, importamos o método que iremos usar."
   ]
  },
  {
   "cell_type": "code",
   "execution_count": 2,
   "metadata": {},
   "outputs": [],
   "source": [
    "import sklearn\n",
    "from sklearn.linear_model import Perceptron"
   ]
  },
  {
   "cell_type": "markdown",
   "metadata": {},
   "source": [
    "Depois, podemos definir algumas variáveis para customizar o comportamento do nosso modelo."
   ]
  },
  {
   "cell_type": "code",
   "execution_count": 3,
   "metadata": {},
   "outputs": [],
   "source": [
    "n_interations = 100 # vai controlar a quantidade de interações que será realizada no modelo, também chamado de epochs\n",
    "learning_rate = 0.1 # a constante que representa a taxa de aprendizado"
   ]
  },
  {
   "cell_type": "markdown",
   "metadata": {},
   "source": [
    "Depois, criamos o nosso modelo da seguinte forma:"
   ]
  },
  {
   "cell_type": "code",
   "execution_count": 4,
   "metadata": {},
   "outputs": [],
   "source": [
    "perceptron = Perceptron(max_iter=n_interations, eta0=learning_rate, random_state=0)"
   ]
  },
  {
   "cell_type": "markdown",
   "metadata": {},
   "source": [
    "E ai, já podemos começar o treinamento do modelo."
   ]
  },
  {
   "cell_type": "code",
   "execution_count": 5,
   "metadata": {},
   "outputs": [
    {
     "data": {
      "text/plain": [
       "Perceptron(eta0=0.1, max_iter=100)"
      ]
     },
     "execution_count": 5,
     "metadata": {},
     "output_type": "execute_result"
    }
   ],
   "source": [
    "perceptron.fit(train_data.x_train, train_data.y_train) "
   ]
  },
  {
   "cell_type": "markdown",
   "metadata": {},
   "source": [
    "E com o modelo treinado, podemos começar a ver as métricas de acurácia do nosso modelo tentando predizer os valores de teste que separamos na etapa anterior."
   ]
  },
  {
   "cell_type": "code",
   "execution_count": 6,
   "metadata": {},
   "outputs": [],
   "source": [
    "y_pred = perceptron.predict(train_data.x_test) "
   ]
  },
  {
   "cell_type": "markdown",
   "metadata": {},
   "source": [
    "Com os valores que foram classificados acima, podemos ver qual foi a sua performance usando o `sklearn` da seguinte forma:"
   ]
  },
  {
   "cell_type": "code",
   "execution_count": 7,
   "metadata": {},
   "outputs": [
    {
     "name": "stdout",
     "output_type": "stream",
     "text": [
      "              precision    recall  f1-score   support\n",
      "\n",
      "         ham       0.96      0.95      0.96      1352\n",
      "        spam       0.69      0.76      0.72       196\n",
      "\n",
      "    accuracy                           0.93      1548\n",
      "   macro avg       0.83      0.86      0.84      1548\n",
      "weighted avg       0.93      0.93      0.93      1548\n",
      "\n"
     ]
    }
   ],
   "source": [
    "results = sklearn.metrics.classification_report(train_data.y_test, y_pred, target_names=['ham', 'spam'])\n",
    "\n",
    "print(results)"
   ]
  },
  {
   "cell_type": "markdown",
   "metadata": {},
   "source": [
    "Com a tabela acima, podemos tirar algumas conclusões como: \n",
    "\n",
    "A precisão para identificar mensagens verdadeiras é maior do que a precisão do que identificar mensagens de spam. E isso não necessariamente é ruim porque é melhor errar mais mensagens de spam do que mensagens verdadeiras.\n",
    "\n",
    "Dessa forma, no pior dos casos ainda vemos o spam e ignoramos mas com a mensagem real indo parar no spam, é mais dificil de ir lá olhar.\n",
    "\n",
    "E além disso, podemos checar a nossa acurácia com mais precisão tanto dos valores de teste quanto dos valores de treino da seguinte forma:"
   ]
  },
  {
   "cell_type": "code",
   "execution_count": 8,
   "metadata": {},
   "outputs": [
    {
     "name": "stdout",
     "output_type": "stream",
     "text": [
      "Acurácia sobre os valores de teste:  0.9263565891472868\n",
      "Acurácia sobre os valores de treino:  0.9348850096979773\n"
     ]
    }
   ],
   "source": [
    "accuracyTest = train_data.accuracy_score(train_data.y_test, perceptron.predict(train_data.x_test))\n",
    "accuracyTrain = train_data.accuracy_score(train_data.y_train, perceptron.predict(train_data.x_train))\n",
    "\n",
    "print(\"Acurácia sobre os valores de teste: \", accuracyTest)\n",
    "print(\"Acurácia sobre os valores de treino: \", accuracyTrain)"
   ]
  },
  {
   "cell_type": "markdown",
   "metadata": {},
   "source": [
    "E aqui vemos, temos, assim como mostrado no relatório anterior, certa de 93% e 93% de acurácia sobre os valores de teste e de treino, respectivamente."
   ]
  },
  {
   "cell_type": "markdown",
   "metadata": {},
   "source": [
    "## Cross-Validation\n",
    "\n",
    "Apesar de eu não entender tão bem como funciona a validação cruzada, eu quis trazer nesses métodos para ter um pequena noção de como a ordem dos dados de treinamento influenciam o nosso modelo.\n",
    "\n",
    "Dessa forma, o cross-validation permite que a gente separe em partições os nossos dados, e eles por consequencia, serão usados para treinar várias vezes o modelo e assim podemos obter as métrica de acurácia de cada vez que foi treinado o modelo.\n",
    "\n",
    "Com essas métricas, podemos verificar se a mudança na ordem dos dados tem uma mudança significativa na acurácia do nosso modelo.\n",
    "\n",
    "Vamos começar então com a importação das bibliotecas que iremos usar."
   ]
  },
  {
   "cell_type": "code",
   "execution_count": 9,
   "metadata": {},
   "outputs": [],
   "source": [
    "from sklearn.model_selection import cross_val_score\n",
    "from sklearn.model_selection import ShuffleSplit"
   ]
  },
  {
   "cell_type": "markdown",
   "metadata": {},
   "source": [
    "Depois, vamos criar algumas variáveis para configurarmos como será a cross-validation."
   ]
  },
  {
   "cell_type": "code",
   "execution_count": 10,
   "metadata": {},
   "outputs": [],
   "source": [
    "n_splits = 5 # o número de partições\n",
    "test_size = 0.3 # a porcentagem que será usada para teste, o restante é usada no treino\n",
    "cv = ShuffleSplit(n_splits=n_splits, test_size=test_size, random_state=0) # define a função que irá realizar o rearranjo dos dados de treino e como será divido os dados."
   ]
  },
  {
   "cell_type": "markdown",
   "metadata": {},
   "source": [
    "E assim, podemos agora chamar a função `cross_val_score` que irá nos retornar a acurácia, assim como, o desvio da acurácia que nos diz quanto a ordem os dados está influenciando o modelo."
   ]
  },
  {
   "cell_type": "code",
   "execution_count": 11,
   "metadata": {},
   "outputs": [
    {
     "name": "stdout",
     "output_type": "stream",
     "text": [
      "0.84 acurácia com o desvio de 0.13\n"
     ]
    }
   ],
   "source": [
    "scores = cross_val_score(perceptron, train_data.x, train_data.y, cv=cv)\n",
    "\n",
    "print(\"%0.2f acurácia com o desvio de %0.2f\" % (scores.mean(), scores.std()))"
   ]
  },
  {
   "cell_type": "markdown",
   "metadata": {},
   "source": [
    "É interessante ver que agora a acurácia do modelo saiu de 93% para 84%, com um erro de 0.02. \n",
    "\n",
    "Isso foi uma piora estranha comparada a outras execuções, eu executei isso em dois dias diferentes e tive resultados diferentes, apesar de setar e tentar deixar os mesmos estados randomicos (random_state=0), ele ainda teve uma diferença ao ser executado em dias diferentes.\n",
    "\n",
    "E professor, se você chegou até aqui, seria interessante ver mais sobre cross-validation nas aulas."
   ]
  }
 ],
 "metadata": {
  "interpreter": {
   "hash": "177401c68bf2cebd86e5b16616fdddb5ae8a22ec2666d9ac189b12bd387b0870"
  },
  "kernelspec": {
   "display_name": "Python 3.8.8 64-bit",
   "language": "python",
   "name": "python3"
  },
  "language_info": {
   "codemirror_mode": {
    "name": "ipython",
    "version": 3
   },
   "file_extension": ".py",
   "mimetype": "text/x-python",
   "name": "python",
   "nbconvert_exporter": "python",
   "pygments_lexer": "ipython3",
   "version": "3.8.8"
  },
  "orig_nbformat": 4
 },
 "nbformat": 4,
 "nbformat_minor": 2
}
