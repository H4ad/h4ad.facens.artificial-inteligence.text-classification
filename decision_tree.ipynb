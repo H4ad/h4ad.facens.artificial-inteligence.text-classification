{
 "cells": [
  {
   "cell_type": "markdown",
   "metadata": {},
   "source": [
    "## Avaliação Continuada (AC2) - Árvore de Decisão\n",
    "\n",
    "Nesse notebook, iremos ver como aplicar o método de árvore de decisão na nossa base de dados que foi processada no notebook `train_data.ipynb`.\n",
    "\n",
    "Para começar então, vamos importar o notebook `train_data.ipynb` que irá conter tudo que precisamos."
   ]
  },
  {
   "cell_type": "code",
   "execution_count": 1,
   "metadata": {},
   "outputs": [
    {
     "name": "stdout",
     "output_type": "stream",
     "text": [
      "importing Jupyter notebook from train_data.ipynb\n"
     ]
    },
    {
     "data": {
      "text/html": [
       "<div>\n",
       "<style scoped>\n",
       "    .dataframe tbody tr th:only-of-type {\n",
       "        vertical-align: middle;\n",
       "    }\n",
       "\n",
       "    .dataframe tbody tr th {\n",
       "        vertical-align: top;\n",
       "    }\n",
       "\n",
       "    .dataframe thead th {\n",
       "        text-align: right;\n",
       "    }\n",
       "</style>\n",
       "<table border=\"1\" class=\"dataframe\">\n",
       "  <thead>\n",
       "    <tr style=\"text-align: right;\">\n",
       "      <th></th>\n",
       "      <th>Category</th>\n",
       "      <th>Message</th>\n",
       "    </tr>\n",
       "  </thead>\n",
       "  <tbody>\n",
       "    <tr>\n",
       "      <th>0</th>\n",
       "      <td>ham</td>\n",
       "      <td>Go until jurong point, crazy.. Available only ...</td>\n",
       "    </tr>\n",
       "    <tr>\n",
       "      <th>1</th>\n",
       "      <td>ham</td>\n",
       "      <td>Ok lar... Joking wif u oni...</td>\n",
       "    </tr>\n",
       "    <tr>\n",
       "      <th>2</th>\n",
       "      <td>spam</td>\n",
       "      <td>Free entry in 2 a wkly comp to win FA Cup fina...</td>\n",
       "    </tr>\n",
       "    <tr>\n",
       "      <th>3</th>\n",
       "      <td>ham</td>\n",
       "      <td>U dun say so early hor... U c already then say...</td>\n",
       "    </tr>\n",
       "    <tr>\n",
       "      <th>4</th>\n",
       "      <td>ham</td>\n",
       "      <td>Nah I don't think he goes to usf, he lives aro...</td>\n",
       "    </tr>\n",
       "  </tbody>\n",
       "</table>\n",
       "</div>"
      ],
      "text/plain": [
       "  Category                                            Message\n",
       "0      ham  Go until jurong point, crazy.. Available only ...\n",
       "1      ham                      Ok lar... Joking wif u oni...\n",
       "2     spam  Free entry in 2 a wkly comp to win FA Cup fina...\n",
       "3      ham  U dun say so early hor... U c already then say...\n",
       "4      ham  Nah I don't think he goes to usf, he lives aro..."
      ]
     },
     "metadata": {},
     "output_type": "display_data"
    },
    {
     "data": {
      "text/html": [
       "<div>\n",
       "<style scoped>\n",
       "    .dataframe tbody tr th:only-of-type {\n",
       "        vertical-align: middle;\n",
       "    }\n",
       "\n",
       "    .dataframe tbody tr th {\n",
       "        vertical-align: top;\n",
       "    }\n",
       "\n",
       "    .dataframe thead th {\n",
       "        text-align: right;\n",
       "    }\n",
       "</style>\n",
       "<table border=\"1\" class=\"dataframe\">\n",
       "  <thead>\n",
       "    <tr style=\"text-align: right;\">\n",
       "      <th></th>\n",
       "      <th>Category</th>\n",
       "      <th>Message</th>\n",
       "    </tr>\n",
       "  </thead>\n",
       "  <tbody>\n",
       "    <tr>\n",
       "      <th>count</th>\n",
       "      <td>5572</td>\n",
       "      <td>5572</td>\n",
       "    </tr>\n",
       "    <tr>\n",
       "      <th>unique</th>\n",
       "      <td>2</td>\n",
       "      <td>5157</td>\n",
       "    </tr>\n",
       "    <tr>\n",
       "      <th>top</th>\n",
       "      <td>ham</td>\n",
       "      <td>Sorry, I'll call later</td>\n",
       "    </tr>\n",
       "    <tr>\n",
       "      <th>freq</th>\n",
       "      <td>4825</td>\n",
       "      <td>30</td>\n",
       "    </tr>\n",
       "  </tbody>\n",
       "</table>\n",
       "</div>"
      ],
      "text/plain": [
       "       Category                 Message\n",
       "count      5572                    5572\n",
       "unique        2                    5157\n",
       "top         ham  Sorry, I'll call later\n",
       "freq       4825                      30"
      ]
     },
     "metadata": {},
     "output_type": "display_data"
    },
    {
     "name": "stdout",
     "output_type": "stream",
     "text": [
      "Shape antes de remover os dados.\n",
      "(5572, 2)\n",
      "\n",
      "Shape após remover os dados.\n",
      "(5157, 2)\n",
      "\n",
      "Quantidade de itens removidos: 415\n",
      "Um dos textos antes do processamento:\n"
     ]
    },
    {
     "data": {
      "text/plain": [
       "'I sent you  &lt;#&gt;  bucks'"
      ]
     },
     "metadata": {},
     "output_type": "display_data"
    },
    {
     "name": "stdout",
     "output_type": "stream",
     "text": [
      "O mesmo texto, só que agora processado:\n"
     ]
    },
    {
     "data": {
      "text/plain": [
       "'sent you bucks'"
      ]
     },
     "metadata": {},
     "output_type": "display_data"
    },
    {
     "name": "stdout",
     "output_type": "stream",
     "text": [
      "Algumas palavras que iremos usar para montar o nosso vocabulário:\n",
      "['go', 'until', 'jurong', 'point', 'crazy', 'available', 'only', 'in', 'bugis', 'great', 'world', 'la', 'buffet', 'cine', 'there', 'got', 'amore', 'wat']\n",
      "Tamanho do Vocabulario:  3632\n",
      "[ 1.39969841e-01 -1.17486238e-01 -1.10714950e-01  2.05853507e-01\n",
      "  3.41195613e-01 -3.51610363e-01  1.71089068e-01  6.30936682e-01\n",
      " -2.57613868e-01  2.52222419e-01 -2.52344221e-01 -3.61966491e-01\n",
      "  1.49087831e-01  2.60720700e-01 -4.47315834e-02 -2.46243462e-01\n",
      " -1.15892880e-01  2.68316333e-04  1.64664537e-02 -5.39395273e-01\n",
      "  2.07198560e-01 -2.55643785e-01 -1.24959648e-01 -1.37009293e-01\n",
      "  9.96919572e-02 -2.70122647e-01  1.30453985e-02 -2.06147701e-01\n",
      " -3.52618217e-01  1.66222602e-01  3.97628814e-01 -6.11065701e-02\n",
      "  1.64686158e-01 -3.91479358e-02 -7.73691237e-02  2.91181833e-01\n",
      "  2.49674052e-01 -1.94237232e-01 -8.70821849e-02 -4.84320670e-01\n",
      " -3.16953808e-01 -9.99857187e-02  3.48575637e-02  1.01693183e-01\n",
      "  4.99485046e-01 -1.94202736e-01 -2.42911875e-01 -1.51306927e-01\n",
      "  1.23417214e-01  2.01294735e-01  6.54839426e-02 -1.70865193e-01\n",
      " -2.84600288e-01 -2.74886400e-01  6.90301433e-02 -1.11522518e-01\n",
      " -6.37315288e-02 -3.42854083e-01 -3.75600994e-01  4.52925041e-02\n",
      " -4.85238135e-02 -4.59576063e-02  4.09160480e-02 -4.59710211e-02\n",
      " -7.43545115e-01  1.91897795e-01 -6.94363320e-04  6.46269560e-01\n",
      " -3.88936698e-01  5.68283021e-01 -3.37194800e-02  4.89692837e-02\n",
      "  3.55424464e-01  2.48314943e-02  1.05435982e-01  2.35300958e-01\n",
      "  3.05979729e-01 -2.43525997e-01 -5.56220293e-01 -1.01141505e-01\n",
      " -2.01448739e-01 -1.01929441e-01 -5.23777723e-01  6.96263790e-01\n",
      " -4.08560485e-01 -2.36855093e-02  4.88925166e-02  3.08365732e-01\n",
      "  5.57161123e-02 -2.07854971e-01  2.44874790e-01  3.84162903e-01\n",
      "  2.18130231e-01  3.81948084e-01  6.26658261e-01  3.48075718e-01\n",
      "  1.48915738e-01 -3.87738287e-01  2.94160277e-01  2.20213890e-01\n",
      " -5.39360821e-01  5.81177473e-01  7.73732439e-02 -2.13448420e-01\n",
      " -2.55963892e-01 -4.34299171e-01  1.59320742e-01  4.95093644e-01\n",
      " -2.78852701e-01 -4.51274693e-01 -2.85950601e-02 -4.69935000e-01\n",
      " -9.20274034e-02 -1.02490395e-01  1.55902803e-01 -7.05136061e-02\n",
      "  2.52901644e-01 -6.37107134e-01 -2.43087485e-01 -2.78485686e-01\n",
      " -5.00240140e-02  3.87331992e-01  2.98500121e-01 -2.72745848e-01\n",
      " -2.73165047e-01  2.84744859e-01 -2.65332490e-01 -8.80808830e-02\n",
      " -1.20328709e-01 -1.66701451e-02  3.16820800e-01  1.34878382e-01\n",
      " -2.39815965e-01 -2.35003188e-01 -1.17120922e-01  4.28719044e-01\n",
      " -1.43264994e-01 -3.89068425e-01 -1.31816030e-01 -4.17663902e-01\n",
      "  2.50556171e-01 -4.65279996e-01 -1.10895313e-01 -1.45034254e-01\n",
      " -2.95963679e-02 -1.54984862e-01 -2.28593901e-01  2.04223990e-01\n",
      " -1.97173916e-02  7.21906573e-02  2.33848602e-01 -3.77384603e-01\n",
      "  1.05555579e-01  1.62768498e-01 -6.52762949e-01  4.26941425e-01\n",
      "  3.73415142e-01  3.66430581e-01 -1.15831584e-01  2.01360360e-01\n",
      "  2.49713957e-01  2.21603647e-01 -4.79262061e-02 -5.30903600e-02\n",
      " -8.25518593e-02  1.73675492e-01  2.21313134e-01 -2.99322426e-01\n",
      " -2.27979586e-01  7.86446035e-02 -2.44061917e-01  2.25472704e-01\n",
      " -4.53719981e-02 -2.36215398e-01  2.15103641e-01  2.55742192e-01\n",
      " -3.30094308e-01  2.07213372e-01  1.52731791e-01  1.60472229e-01\n",
      "  9.34502110e-03  4.16529365e-02  4.58688401e-02  4.83816750e-02\n",
      "  2.64625162e-01  4.21726108e-02 -4.00604308e-02  2.40976870e-01\n",
      "  4.74124819e-01  1.07134178e-01  4.79406685e-01  4.61663008e-02\n",
      " -2.32859060e-01 -2.24554211e-01  2.92897999e-01  3.22357208e-01\n",
      "  2.25079417e-01 -4.83176440e-01 -6.66576475e-02 -1.91856980e-01]\n",
      "[('claim', 0.9995970726013184), ('cash', 0.9993612170219421), ('reply', 0.9993247389793396), ('free', 0.999257504940033), ('<NUMBER>p', 0.9992343187332153), ('txt', 0.9991792440414429), ('prize', 0.9991371035575867), ('guaranteed', 0.9991360902786255), ('or', 0.9991087913513184), ('landline', 0.9990713000297546)]\n",
      "Testando com uma frase qualquer\n",
      "[ 7.15989321e-02 -6.45970479e-02 -6.53992966e-02  1.03156343e-01\n",
      "  2.05314994e-01 -1.93655178e-01  5.75996898e-02  3.27240705e-01\n",
      " -1.43543333e-01  1.17087275e-01 -1.50389791e-01 -1.85025841e-01\n",
      "  8.91370997e-02  1.43783629e-01 -1.29863732e-02 -1.25386387e-01\n",
      " -7.08733201e-02  2.25077779e-03 -1.32931489e-03 -2.83699185e-01\n",
      "  1.04219958e-01 -1.19428255e-01 -5.02148382e-02 -8.96578953e-02\n",
      "  5.87971471e-02 -1.47483423e-01 -6.33781916e-03 -1.15371488e-01\n",
      " -1.90900862e-01  1.09380282e-01  2.14743540e-01 -3.28991823e-02\n",
      "  7.66565278e-02 -2.69324519e-03 -4.04167175e-02  1.56454042e-01\n",
      "  1.13223583e-01 -1.06015652e-01 -4.36775833e-02 -2.77746946e-01\n",
      " -1.56128675e-01 -2.56044399e-02  2.06015743e-02  6.43749684e-02\n",
      "  2.74486780e-01 -8.36285353e-02 -1.32936284e-01 -9.78342146e-02\n",
      "  6.44265637e-02  9.83569175e-02  4.17912528e-02 -1.01014040e-01\n",
      " -1.46021768e-01 -1.46213353e-01  3.62097770e-02 -4.54607569e-02\n",
      " -4.28398103e-02 -1.72787502e-01 -1.90979809e-01  5.29001048e-03\n",
      " -2.03106999e-02 -3.05610579e-02  1.42218908e-02 -2.45137773e-02\n",
      " -3.87250155e-01  1.16105959e-01  5.20436675e-04  3.33222210e-01\n",
      " -2.21177027e-01  3.10982108e-01 -2.64758244e-02  2.31302343e-02\n",
      "  1.98852360e-01  6.51257671e-03  6.19475991e-02  1.11736864e-01\n",
      "  1.62076131e-01 -1.51286691e-01 -3.19732726e-01 -4.04584557e-02\n",
      " -1.10254832e-01 -5.19169495e-02 -2.70998716e-01  3.91503423e-01\n",
      " -2.06549317e-01 -2.07625274e-02  1.51528735e-02  1.53966248e-01\n",
      "  3.22110429e-02 -1.14815630e-01  1.35987684e-01  2.06282943e-01\n",
      "  1.23368703e-01  2.08891153e-01  3.33472401e-01  1.84435025e-01\n",
      "  8.87828171e-02 -1.94894001e-01  1.54232562e-01  1.21276692e-01\n",
      " -2.84626573e-01  3.26703221e-01  2.93160044e-02 -1.12452641e-01\n",
      " -1.40089974e-01 -2.29478985e-01  9.72929671e-02  2.91875899e-01\n",
      " -1.51847020e-01 -2.43062988e-01 -2.59644110e-02 -2.54096091e-01\n",
      " -5.22696897e-02 -6.59468770e-02  8.12012479e-02 -5.89037091e-02\n",
      "  1.28486678e-01 -3.57485205e-01 -1.30187511e-01 -1.55113637e-01\n",
      " -4.00355533e-02  2.03475177e-01  1.57810107e-01 -1.25058144e-01\n",
      " -1.55385599e-01  1.44741744e-01 -1.32622361e-01 -6.32515475e-02\n",
      " -5.57869077e-02 -4.40930426e-02  1.70609176e-01  5.42072318e-02\n",
      " -1.18143424e-01 -1.17861278e-01 -5.77767640e-02  2.18439743e-01\n",
      " -8.13277215e-02 -1.97611064e-01 -9.43582356e-02 -2.36048117e-01\n",
      "  1.35349751e-01 -2.41367787e-01 -5.71587831e-02 -8.86802077e-02\n",
      " -2.71505397e-02 -6.70892522e-02 -1.33180261e-01  1.10243589e-01\n",
      " -1.00177824e-02  3.48072797e-02  1.13443747e-01 -1.95461795e-01\n",
      "  3.89863253e-02  9.30137932e-02 -3.37536603e-01  2.18492076e-01\n",
      "  2.00815529e-01  1.80947438e-01 -6.58464059e-02  1.13015749e-01\n",
      "  1.36873201e-01  9.86451432e-02 -2.71160230e-02 -2.55601052e-02\n",
      " -4.63611968e-02  1.01494335e-01  1.21396318e-01 -1.61769569e-01\n",
      " -1.50622770e-01  1.45653142e-02 -1.21002674e-01  1.18919231e-01\n",
      " -1.39860297e-02 -1.27072290e-01  1.10336602e-01  1.44060686e-01\n",
      " -1.76752776e-01  1.19575471e-01  6.29667565e-02  9.41368416e-02\n",
      " -1.42888282e-03  3.11924536e-02  2.56072555e-04  3.89137268e-02\n",
      "  1.66382685e-01  2.37781759e-02 -1.39217321e-02  1.62386373e-01\n",
      "  2.51464397e-01  4.90580946e-02  2.48157233e-01  3.12694646e-02\n",
      " -1.29067510e-01 -9.95366424e-02  1.60045817e-01  1.67585492e-01\n",
      "  1.22476257e-01 -2.65121669e-01 -2.33304333e-02 -1.06944986e-01]\n",
      "Shape do vetor de classe:  (5157,)\n",
      "Shape do vetor de valores:  (5157, 200)\n",
      "Qntd. de amostras de treino:  3609\n",
      "Qntd de amostras de teste:  1548\n",
      "\n",
      "Qtd. de dados de cada classe (treinamento)\n",
      "\tClasse ham:  3164\n",
      "\tClasse spam:  445\n",
      "\n",
      "Qtd. de dados de cada classe (teste)\n",
      "\tClasse ham:  1352\n",
      "\tClasse spam:  196\n"
     ]
    }
   ],
   "source": [
    "import import_ipynb\n",
    "import train_data"
   ]
  },
  {
   "cell_type": "markdown",
   "metadata": {},
   "source": [
    "## Treinamento\n",
    "\n",
    "Agora, com os dados separados, vamos começar o treinamento usando o método de Árvore de Decisão."
   ]
  },
  {
   "cell_type": "markdown",
   "metadata": {},
   "source": [
    "Primeiro, importamos o método que iremos usar."
   ]
  },
  {
   "cell_type": "code",
   "execution_count": 2,
   "metadata": {},
   "outputs": [],
   "source": [
    "import sklearn\n",
    "from sklearn.tree import DecisionTreeClassifier"
   ]
  },
  {
   "cell_type": "markdown",
   "metadata": {},
   "source": [
    "Depois, criamos o nosso modelo da seguinte forma:"
   ]
  },
  {
   "cell_type": "code",
   "execution_count": 3,
   "metadata": {},
   "outputs": [],
   "source": [
    "decisionTree = DecisionTreeClassifier(criterion = \"entropy\", random_state=0)"
   ]
  },
  {
   "cell_type": "markdown",
   "metadata": {},
   "source": [
    "E ai, já podemos começar o treinamento do modelo."
   ]
  },
  {
   "cell_type": "code",
   "execution_count": 4,
   "metadata": {},
   "outputs": [
    {
     "data": {
      "text/plain": [
       "DecisionTreeClassifier(criterion='entropy', random_state=0)"
      ]
     },
     "execution_count": 4,
     "metadata": {},
     "output_type": "execute_result"
    }
   ],
   "source": [
    "decisionTree.fit(train_data.x_train, train_data.y_train) "
   ]
  },
  {
   "cell_type": "markdown",
   "metadata": {},
   "source": [
    "E com o modelo treinado, podemos começar a ver as métricas de acurácia do nosso modelo tentando predizer os valores de teste que separamos na etapa anterior."
   ]
  },
  {
   "cell_type": "code",
   "execution_count": 5,
   "metadata": {},
   "outputs": [],
   "source": [
    "y_pred = decisionTree.predict(train_data.x_test) "
   ]
  },
  {
   "cell_type": "markdown",
   "metadata": {},
   "source": [
    "Com os valores que foram classificados acima, podemos ver qual foi a sua performance usando o `sklearn` da seguinte forma:"
   ]
  },
  {
   "cell_type": "code",
   "execution_count": 6,
   "metadata": {},
   "outputs": [
    {
     "name": "stdout",
     "output_type": "stream",
     "text": [
      "              precision    recall  f1-score   support\n",
      "\n",
      "         ham       0.96      0.95      0.95      1352\n",
      "        spam       0.67      0.73      0.70       196\n",
      "\n",
      "    accuracy                           0.92      1548\n",
      "   macro avg       0.81      0.84      0.83      1548\n",
      "weighted avg       0.92      0.92      0.92      1548\n",
      "\n"
     ]
    }
   ],
   "source": [
    "results = sklearn.metrics.classification_report(train_data.y_test, y_pred, target_names=['ham', 'spam'])\n",
    "\n",
    "print(results)"
   ]
  },
  {
   "cell_type": "markdown",
   "metadata": {},
   "source": [
    "Com a tabela acima, podemos tirar algumas conclusões como: \n",
    "\n",
    "A precisão para identificar mensagens verdadeiras é maior do que a precisão do que identificar mensagens de spam. E isso não necessariamente é ruim porque é melhor errar mais mensagens de spam do que mensagens verdadeiras.\n",
    "\n",
    "Dessa forma, no pior dos casos ainda vemos o spam e ignoramos mas com a mensagem real indo parar no spam, é mais dificil de ir lá olhar.\n",
    "\n",
    "E além disso, podemos checar a nossa acurácia com mais precisão tanto dos valores de teste quanto dos valores de treino da seguinte forma:"
   ]
  },
  {
   "cell_type": "code",
   "execution_count": 7,
   "metadata": {},
   "outputs": [
    {
     "name": "stdout",
     "output_type": "stream",
     "text": [
      "Acurácia sobre os valores de teste:  0.9198966408268734\n",
      "Acurácia sobre os valores de treino:  1.0\n"
     ]
    }
   ],
   "source": [
    "accuracyTest = train_data.accuracy_score(train_data.y_test, decisionTree.predict(train_data.x_test))\n",
    "accuracyTrain = train_data.accuracy_score(train_data.y_train, decisionTree.predict(train_data.x_train))\n",
    "\n",
    "print(\"Acurácia sobre os valores de teste: \", accuracyTest)\n",
    "print(\"Acurácia sobre os valores de treino: \", accuracyTrain)"
   ]
  },
  {
   "cell_type": "markdown",
   "metadata": {},
   "source": [
    "E aqui vemos, temos, assim como mostrado no relatório anterior, certa de 91% de acurácia sobre os valores de teste e 100% para os valores de treino."
   ]
  },
  {
   "cell_type": "markdown",
   "metadata": {},
   "source": [
    "## Cross-Validation\n",
    "\n",
    "Apesar de eu não entender tão bem como funciona a validação cruzada, eu quis trazer nesses métodos para ter um pequena noção de como a ordem dos dados de treinamento influenciam o nosso modelo.\n",
    "\n",
    "Dessa forma, o cross-validation permite que a gente separe em partições os nossos dados, e eles por consequencia, serão usados para treinar várias vezes o modelo e assim podemos obter as métrica de acurácia de cada vez que foi treinado o modelo.\n",
    "\n",
    "Com essas métricas, podemos verificar se a mudança na ordem dos dados tem uma mudança significativa na acurácia do nosso modelo.\n",
    "\n",
    "Vamos começar então com a importação das bibliotecas que iremos usar."
   ]
  },
  {
   "cell_type": "code",
   "execution_count": 8,
   "metadata": {},
   "outputs": [],
   "source": [
    "from sklearn.model_selection import cross_val_score\n",
    "from sklearn.model_selection import ShuffleSplit"
   ]
  },
  {
   "cell_type": "markdown",
   "metadata": {},
   "source": [
    "Depois, vamos criar algumas variáveis para configurarmos como será a cross-validation."
   ]
  },
  {
   "cell_type": "code",
   "execution_count": 9,
   "metadata": {},
   "outputs": [],
   "source": [
    "n_splits = 5 # o número de partições\n",
    "test_size = 0.3 # a porcentagem que será usada para teste, o restante é usada no treino\n",
    "cv = ShuffleSplit(n_splits=n_splits, test_size=test_size, random_state=0) # define a função que irá realizar o rearranjo dos dados de treino e como será divido os dados."
   ]
  },
  {
   "cell_type": "markdown",
   "metadata": {},
   "source": [
    "E assim, podemos agora chamar a função `cross_val_score` que irá nos retornar a acurácia, assim como, o desvio da acurácia que nos diz quanto a ordem os dados está influenciando o modelo."
   ]
  },
  {
   "cell_type": "code",
   "execution_count": 10,
   "metadata": {},
   "outputs": [
    {
     "name": "stdout",
     "output_type": "stream",
     "text": [
      "0.93 acurácia com o desvio de 0.01\n"
     ]
    }
   ],
   "source": [
    "scores = cross_val_score(decisionTree, train_data.x, train_data.y, cv=cv)\n",
    "\n",
    "print(\"%0.2f acurácia com o desvio de %0.2f\" % (scores.mean(), scores.std()))"
   ]
  },
  {
   "cell_type": "markdown",
   "metadata": {},
   "source": [
    "E podemos ver que a acurácia teve uma ligeira melhoria, de 91% para 93%.\n",
    "\n",
    "O interessante disso é ver que o modelo Árvore de Decisão não foi tão influenciado pela ordenação dos dados, diferente do Perceptron por exemplo."
   ]
  }
 ],
 "metadata": {
  "interpreter": {
   "hash": "177401c68bf2cebd86e5b16616fdddb5ae8a22ec2666d9ac189b12bd387b0870"
  },
  "kernelspec": {
   "display_name": "Python 3.8.8 64-bit",
   "language": "python",
   "name": "python3"
  },
  "language_info": {
   "codemirror_mode": {
    "name": "ipython",
    "version": 3
   },
   "file_extension": ".py",
   "mimetype": "text/x-python",
   "name": "python",
   "nbconvert_exporter": "python",
   "pygments_lexer": "ipython3",
   "version": "3.8.8"
  },
  "orig_nbformat": 4
 },
 "nbformat": 4,
 "nbformat_minor": 2
}
